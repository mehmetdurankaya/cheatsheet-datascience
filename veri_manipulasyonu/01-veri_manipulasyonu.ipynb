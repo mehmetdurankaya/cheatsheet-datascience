{
 "cells": [
  {
   "cell_type": "code",
   "execution_count": 1,
   "id": "b4c2dbad-1fae-4445-a61b-1bd4b1e2b2a2",
   "metadata": {},
   "outputs": [
    {
     "name": "stdout",
     "output_type": "stream",
     "text": [
      "a\n"
     ]
    }
   ],
   "source": [
    "print(\"a\")"
   ]
  },
  {
   "cell_type": "markdown",
   "id": "a2534829-1bfe-49d1-b8fd-3ebd5b6c4609",
   "metadata": {},
   "source": [
    "Merhaba\n",
    "Herhangi başka şeylerde yazılabilir\n",
    "_italik_\n",
    "**kalın**"
   ]
  },
  {
   "cell_type": "code",
   "execution_count": null,
   "id": "6d2a75e6-6c3d-4efa-bb71-c1961b7c269c",
   "metadata": {},
   "outputs": [],
   "source": []
  },
  {
   "cell_type": "code",
   "execution_count": null,
   "id": "8aa8fd39-1db6-4391-adc1-15b0f22b43c2",
   "metadata": {},
   "outputs": [],
   "source": []
  }
 ],
 "metadata": {
  "kernelspec": {
   "display_name": "Python 3 (ipykernel)",
   "language": "python",
   "name": "python3"
  },
  "language_info": {
   "codemirror_mode": {
    "name": "ipython",
    "version": 3
   },
   "file_extension": ".py",
   "mimetype": "text/x-python",
   "name": "python",
   "nbconvert_exporter": "python",
   "pygments_lexer": "ipython3",
   "version": "3.11.5"
  }
 },
 "nbformat": 4,
 "nbformat_minor": 5
}
