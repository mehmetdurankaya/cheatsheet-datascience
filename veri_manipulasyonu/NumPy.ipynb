{
 "cells": [
  {
   "cell_type": "markdown",
   "id": "ade8ba60-cb8c-4b84-9141-cc14fbb6f863",
   "metadata": {},
   "source": [
    "# Numpy "
   ]
  },
  {
   "cell_type": "markdown",
   "id": "ac96559e-fd53-4a24-a87d-4140224c077e",
   "metadata": {},
   "source": [
    "### Numpy python programlama dilinin bazı numerik işlemlerde yetersiz kaldığı noktalarda ihtiyaçların giderilmesi için ortaya çıkmış kütüphanedir"
   ]
  },
  {
   "cell_type": "markdown",
   "id": "e3935053-5802-46a6-bc3b-40b8bd53df4d",
   "metadata": {},
   "source": [
    "* Numerical Python\n",
    "* Bilimsel hesaplamalar için kullanılır\n",
    "* Arraylar / çok boyutlu arraylar ve matrisler üzerinde yüksek performanslı çalışma imkanı sağlar.\n",
    "* Listelere benzerdir, farkı; verimli veri saklama ve vektörel operasyonlardır."
   ]
  },
  {
   "cell_type": "code",
   "execution_count": 28,
   "id": "04b7e3ab-1dd9-4038-9033-ee00697f4a55",
   "metadata": {},
   "outputs": [],
   "source": [
    "a = [1,2,3,4]\n",
    "b = [2,3,4,5]\n"
   ]
  },
  {
   "cell_type": "code",
   "execution_count": 31,
   "id": "23dce4c8-598d-48e5-9dc5-b2a0fb93d725",
   "metadata": {},
   "outputs": [
    {
     "data": {
      "text/plain": [
       "[2, 6, 12, 20]"
      ]
     },
     "execution_count": 31,
     "metadata": {},
     "output_type": "execute_result"
    }
   ],
   "source": [
    "ab=[]\n",
    "for i in range(0,len(a)):\n",
    "    ab.append(a[i]*b[i])\n",
    "ab"
   ]
  },
  {
   "cell_type": "code",
   "execution_count": 1,
   "id": "c3561bcc-d064-4356-b542-52766ead7fd8",
   "metadata": {},
   "outputs": [],
   "source": [
    "import numpy as np"
   ]
  },
  {
   "cell_type": "code",
   "execution_count": 33,
   "id": "6df161f2-7477-4da4-9e5b-5dcc456fa1dd",
   "metadata": {},
   "outputs": [
    {
     "data": {
      "text/plain": [
       "array([ 2,  6, 12, 20])"
      ]
     },
     "execution_count": 33,
     "metadata": {},
     "output_type": "execute_result"
    }
   ],
   "source": [
    "a = np.array([1,2,3,4])\n",
    "b= np.array([2,3,4,5])\n",
    "a * b"
   ]
  },
  {
   "cell_type": "markdown",
   "id": "da000c66-422c-4396-ad95-c2123e473afb",
   "metadata": {},
   "source": [
    "# NumPy Array'i Oluşturmak"
   ]
  },
  {
   "cell_type": "code",
   "execution_count": 3,
   "id": "5c28a60c-f2f9-46ce-a5ac-ffa806a86394",
   "metadata": {},
   "outputs": [],
   "source": [
    "import numpy as np"
   ]
  },
  {
   "cell_type": "code",
   "execution_count": 5,
   "id": "adf682b8-5cb5-429c-8f2f-75369d75ee56",
   "metadata": {},
   "outputs": [
    {
     "data": {
      "text/plain": [
       "array([1, 2, 3, 4, 5])"
      ]
     },
     "execution_count": 5,
     "metadata": {},
     "output_type": "execute_result"
    }
   ],
   "source": [
    "np.array([1,2,3,4,5])"
   ]
  },
  {
   "cell_type": "code",
   "execution_count": 7,
   "id": "dec68f93-bd6b-44af-9269-39cdd61c5ac8",
   "metadata": {},
   "outputs": [],
   "source": [
    "a=np.array([1,2,3,4,5])"
   ]
  },
  {
   "cell_type": "code",
   "execution_count": 11,
   "id": "e37d7dc3-8c05-4568-8e03-8238f1366705",
   "metadata": {},
   "outputs": [
    {
     "data": {
      "text/plain": [
       "numpy.ndarray"
      ]
     },
     "execution_count": 11,
     "metadata": {},
     "output_type": "execute_result"
    }
   ],
   "source": [
    "type(a)"
   ]
  },
  {
   "cell_type": "code",
   "execution_count": 17,
   "id": "9d4816f9-1198-4a32-9f27-409d5e3afb1f",
   "metadata": {},
   "outputs": [
    {
     "data": {
      "text/plain": [
       "array([ 3,  4,  2, 13])"
      ]
     },
     "execution_count": 17,
     "metadata": {},
     "output_type": "execute_result"
    }
   ],
   "source": [
    "np.array([3.14,4,2,13],dtype=\"int\")"
   ]
  },
  {
   "cell_type": "code",
   "execution_count": 19,
   "id": "e9adda2c-923b-4ac5-8345-7264feeff02a",
   "metadata": {},
   "outputs": [],
   "source": [
    "# sıfırdan array oluşturma"
   ]
  },
  {
   "cell_type": "code",
   "execution_count": 23,
   "id": "3d90a873-d71f-471e-b7f8-da71121243fb",
   "metadata": {},
   "outputs": [
    {
     "data": {
      "text/plain": [
       "array([0, 0, 0, 0, 0, 0, 0, 0, 0, 0])"
      ]
     },
     "execution_count": 23,
     "metadata": {},
     "output_type": "execute_result"
    }
   ],
   "source": [
    "np.zeros(10,dtype=int)"
   ]
  },
  {
   "cell_type": "code",
   "execution_count": 29,
   "id": "ca953009-6826-4aea-b826-16d0e75b8d66",
   "metadata": {},
   "outputs": [
    {
     "data": {
      "text/plain": [
       "array([[1, 1, 1, 1, 1],\n",
       "       [1, 1, 1, 1, 1],\n",
       "       [1, 1, 1, 1, 1]])"
      ]
     },
     "execution_count": 29,
     "metadata": {},
     "output_type": "execute_result"
    }
   ],
   "source": [
    "np.ones((3,5),dtype=int)"
   ]
  },
  {
   "cell_type": "code",
   "execution_count": 33,
   "id": "4374c14c-1a18-46c1-bfe6-b39e43b7ca5a",
   "metadata": {},
   "outputs": [
    {
     "data": {
      "text/plain": [
       "array([[3, 3, 3, 3, 3],\n",
       "       [3, 3, 3, 3, 3],\n",
       "       [3, 3, 3, 3, 3]])"
      ]
     },
     "execution_count": 33,
     "metadata": {},
     "output_type": "execute_result"
    }
   ],
   "source": [
    "np.full((3,5),3)"
   ]
  },
  {
   "cell_type": "code",
   "execution_count": 35,
   "id": "2ef98be0-3570-4f1e-afbd-0215ba656e66",
   "metadata": {},
   "outputs": [
    {
     "data": {
      "text/plain": [
       "array([ 0,  3,  6,  9, 12, 15, 18, 21, 24, 27, 30])"
      ]
     },
     "execution_count": 35,
     "metadata": {},
     "output_type": "execute_result"
    }
   ],
   "source": [
    "np.arange(0,31,3)"
   ]
  },
  {
   "cell_type": "code",
   "execution_count": 37,
   "id": "ef844c63-885d-4353-9a7e-32f8282f8f12",
   "metadata": {},
   "outputs": [
    {
     "data": {
      "text/plain": [
       "array([0.        , 0.11111111, 0.22222222, 0.33333333, 0.44444444,\n",
       "       0.55555556, 0.66666667, 0.77777778, 0.88888889, 1.        ])"
      ]
     },
     "execution_count": 37,
     "metadata": {},
     "output_type": "execute_result"
    }
   ],
   "source": [
    "np.linspace(0,1,10)"
   ]
  },
  {
   "cell_type": "code",
   "execution_count": 39,
   "id": "541a9613-d523-4d1e-b0cb-987b88ae450d",
   "metadata": {},
   "outputs": [
    {
     "data": {
      "text/plain": [
       "array([[14.75196746,  9.77016468,  6.81807396,  9.10761931],\n",
       "       [ 8.77747285, 17.43871817, 10.90909336, 13.92922112],\n",
       "       [ 9.85768793, 13.03360847, 17.9659091 , 16.16463835]])"
      ]
     },
     "execution_count": 39,
     "metadata": {},
     "output_type": "execute_result"
    }
   ],
   "source": [
    "np.random.normal(10,4,(3,4))"
   ]
  },
  {
   "cell_type": "code",
   "execution_count": 41,
   "id": "4e446b45-bd68-431e-9440-ecb72a04e006",
   "metadata": {},
   "outputs": [],
   "source": [
    "# np.random.normal(10,4,(3,4)) ortalaması 10,standartSapması 4, ve 3' e 4 lük bir matris istediğimiz bir dağılım özelliği taşıyan arrayler oluşturabiliyoruz"
   ]
  },
  {
   "cell_type": "code",
   "execution_count": 43,
   "id": "53e24d21-03bc-4319-8cde-1c9c1360f6b2",
   "metadata": {},
   "outputs": [
    {
     "data": {
      "text/plain": [
       "array([[1, 9, 4],\n",
       "       [0, 1, 5],\n",
       "       [1, 6, 2]])"
      ]
     },
     "execution_count": 43,
     "metadata": {},
     "output_type": "execute_result"
    }
   ],
   "source": [
    "np.random.randint(0,10,(3,3))"
   ]
  },
  {
   "cell_type": "markdown",
   "id": "aa72dbc3-4306-4d2c-94ff-fc9e2645a332",
   "metadata": {},
   "source": [
    "# NUMPY ARRAY'IN ÖZELLİKLERİNE ULAŞMA"
   ]
  },
  {
   "cell_type": "markdown",
   "id": "5778d6a3-76a9-479e-9f6a-b722ab77557c",
   "metadata": {},
   "source": [
    "* ndim  : boyut sayısı\n",
    "* shape : boyut bilgisi\n",
    "* size  : toplam eleman sayısı\n",
    "* dtype : array veri tipi"
   ]
  },
  {
   "cell_type": "code",
   "execution_count": 53,
   "id": "dd4248cf-d549-442a-8f3d-41c31755464c",
   "metadata": {},
   "outputs": [
    {
     "data": {
      "text/plain": [
       "array([1, 1, 9, 9, 8, 8, 1, 2, 2, 5])"
      ]
     },
     "execution_count": 53,
     "metadata": {},
     "output_type": "execute_result"
    }
   ],
   "source": [
    "np.random.randint(10,size=10)"
   ]
  },
  {
   "cell_type": "code",
   "execution_count": 55,
   "id": "98399d0f-aaf1-41f0-aa06-518f56db8d3a",
   "metadata": {},
   "outputs": [],
   "source": [
    "a=np.random.randint(10,size=10)"
   ]
  },
  {
   "cell_type": "code",
   "execution_count": 57,
   "id": "067df093-fbbc-4f12-8196-e2215bb4e457",
   "metadata": {},
   "outputs": [
    {
     "data": {
      "text/plain": [
       "1"
      ]
     },
     "execution_count": 57,
     "metadata": {},
     "output_type": "execute_result"
    }
   ],
   "source": [
    "a.ndim #boyut sayısı"
   ]
  },
  {
   "cell_type": "code",
   "execution_count": 63,
   "id": "2d9411a8-4abd-4d57-a4d0-0498aad41d4b",
   "metadata": {},
   "outputs": [
    {
     "data": {
      "text/plain": [
       "(10,)"
      ]
     },
     "execution_count": 63,
     "metadata": {},
     "output_type": "execute_result"
    }
   ],
   "source": [
    "a.shape #boyut bilgisi (tek boyutlu ve içinde 10 eleman var)"
   ]
  },
  {
   "cell_type": "code",
   "execution_count": 65,
   "id": "5dfe980a-fa6c-4ab5-a3ee-c46ae1258e8f",
   "metadata": {},
   "outputs": [
    {
     "data": {
      "text/plain": [
       "10"
      ]
     },
     "execution_count": 65,
     "metadata": {},
     "output_type": "execute_result"
    }
   ],
   "source": [
    "a.size  #toplam eleman sayısı"
   ]
  },
  {
   "cell_type": "code",
   "execution_count": 67,
   "id": "57cf1a1b-e99e-47d5-bfa5-89c1cbef98d1",
   "metadata": {},
   "outputs": [
    {
     "data": {
      "text/plain": [
       "dtype('int32')"
      ]
     },
     "execution_count": 67,
     "metadata": {},
     "output_type": "execute_result"
    }
   ],
   "source": [
    "a.dtype # array veri tipi"
   ]
  },
  {
   "cell_type": "code",
   "execution_count": 69,
   "id": "63ffffa8-c097-4ea1-a894-b2581fd7efba",
   "metadata": {},
   "outputs": [],
   "source": [
    "b= np.random.randint(10,size=(3,5))"
   ]
  },
  {
   "cell_type": "code",
   "execution_count": 71,
   "id": "34f54112-cb32-4f00-8116-c3d84fee41fd",
   "metadata": {},
   "outputs": [
    {
     "data": {
      "text/plain": [
       "2"
      ]
     },
     "execution_count": 71,
     "metadata": {},
     "output_type": "execute_result"
    }
   ],
   "source": [
    "b.ndim"
   ]
  },
  {
   "cell_type": "code",
   "execution_count": 73,
   "id": "252484cd-29c1-45c4-884c-9061f98632ed",
   "metadata": {},
   "outputs": [
    {
     "data": {
      "text/plain": [
       "(3, 5)"
      ]
     },
     "execution_count": 73,
     "metadata": {},
     "output_type": "execute_result"
    }
   ],
   "source": [
    "b.shape"
   ]
  },
  {
   "cell_type": "code",
   "execution_count": 75,
   "id": "f36852ea-a073-40f9-a221-1e795cb3a9f1",
   "metadata": {},
   "outputs": [
    {
     "data": {
      "text/plain": [
       "15"
      ]
     },
     "execution_count": 75,
     "metadata": {},
     "output_type": "execute_result"
    }
   ],
   "source": [
    "b.size"
   ]
  },
  {
   "cell_type": "code",
   "execution_count": 77,
   "id": "432c6ccd-4793-4614-95e1-26ebd7c93c16",
   "metadata": {},
   "outputs": [
    {
     "data": {
      "text/plain": [
       "dtype('int32')"
      ]
     },
     "execution_count": 77,
     "metadata": {},
     "output_type": "execute_result"
    }
   ],
   "source": [
    "b.dtype"
   ]
  },
  {
   "cell_type": "markdown",
   "id": "12d50fc1-2a71-4dd8-a4ab-95d12a98c1b4",
   "metadata": {},
   "source": [
    "# YENİDEN ŞEKİLLENDİRME"
   ]
  },
  {
   "cell_type": "code",
   "execution_count": 82,
   "id": "8d515712-0b1c-4c42-8c9e-c5f63b77ca07",
   "metadata": {},
   "outputs": [
    {
     "data": {
      "text/plain": [
       "array([1, 2, 3, 4, 5, 6, 7, 8, 9])"
      ]
     },
     "execution_count": 82,
     "metadata": {},
     "output_type": "execute_result"
    }
   ],
   "source": [
    "np.arange(1,10) # elimdeki bu arrayden 3,3 lük yeni bir array oluşturmak istersem bu durumda (reshaping) fonksiyonu kullanılır"
   ]
  },
  {
   "cell_type": "markdown",
   "id": "eb2302df-ebb5-48cb-b67f-8ec12510a1fc",
   "metadata": {},
   "source": [
    "* Neden böyle bir duruma ihtiyacım var yaptığımız çalışmada fonksiyonlarımızın veya döngülerimizin ürettiği çıktılar tek bir array formunda gerçekleşebiliyor bunları bazen tek boyuttan iki boyuta bazende iki boyuttan tek boyuta yeniden şekillendirme ihtiyacımız oluyor bu sebeple bu yapısal dönüşümle çözümlüyoruz."
   ]
  },
  {
   "cell_type": "code",
   "execution_count": 85,
   "id": "5dca610e-ceb9-462e-87d6-931dc4b7ad53",
   "metadata": {},
   "outputs": [
    {
     "data": {
      "text/plain": [
       "array([[1, 2, 3],\n",
       "       [4, 5, 6],\n",
       "       [7, 8, 9]])"
      ]
     },
     "execution_count": 85,
     "metadata": {},
     "output_type": "execute_result"
    }
   ],
   "source": [
    "np.arange(1,10).reshape((3,3)) # mevcut arrayi tek boyuttan iki boyuta yeniden şekillendiriyor "
   ]
  },
  {
   "cell_type": "code",
   "execution_count": 87,
   "id": "891b2562-d485-49bf-bfdd-d7043a3eff0e",
   "metadata": {},
   "outputs": [],
   "source": [
    "a=np.arange(1,10)"
   ]
  },
  {
   "cell_type": "code",
   "execution_count": 89,
   "id": "2685e4ce-a514-4bd5-8ebc-e4d582b3b6f9",
   "metadata": {},
   "outputs": [
    {
     "data": {
      "text/plain": [
       "array([1, 2, 3, 4, 5, 6, 7, 8, 9])"
      ]
     },
     "execution_count": 89,
     "metadata": {},
     "output_type": "execute_result"
    }
   ],
   "source": [
    "a"
   ]
  },
  {
   "cell_type": "code",
   "execution_count": 91,
   "id": "cbe6c809-1d81-416e-893d-e3d8818f2097",
   "metadata": {},
   "outputs": [
    {
     "data": {
      "text/plain": [
       "1"
      ]
     },
     "execution_count": 91,
     "metadata": {},
     "output_type": "execute_result"
    }
   ],
   "source": [
    "a.ndim # tek boyutlu array \"Vektör\" dür"
   ]
  },
  {
   "cell_type": "code",
   "execution_count": 93,
   "id": "7812af45-d262-49d9-8349-19381d930bbe",
   "metadata": {},
   "outputs": [
    {
     "data": {
      "text/plain": [
       "array([[1, 2, 3, 4, 5, 6, 7, 8, 9]])"
      ]
     },
     "execution_count": 93,
     "metadata": {},
     "output_type": "execute_result"
    }
   ],
   "source": [
    "a.reshape((1,9)) # iki boyutlu \"Matris\" dir bir satır 9 sütundan oluşmuştur"
   ]
  },
  {
   "cell_type": "code",
   "execution_count": 95,
   "id": "55898b18-0505-4cd9-8629-f4864ea6708b",
   "metadata": {},
   "outputs": [
    {
     "data": {
      "text/plain": [
       "2"
      ]
     },
     "execution_count": 95,
     "metadata": {},
     "output_type": "execute_result"
    }
   ],
   "source": [
    "b.ndim"
   ]
  },
  {
   "cell_type": "markdown",
   "id": "5d0dccf1-6137-434e-b1d0-b9688cc18477",
   "metadata": {},
   "source": [
    "# ARRAY BİRLEŞTİRME (CONCATENATION)"
   ]
  },
  {
   "cell_type": "code",
   "execution_count": 98,
   "id": "be2a7004-04c0-4ee3-803c-45bfada66400",
   "metadata": {},
   "outputs": [],
   "source": [
    "x=np.array([1,2,3])\n",
    "y=np.array([4,5,6])"
   ]
  },
  {
   "cell_type": "code",
   "execution_count": 102,
   "id": "f78ad0ae-fb32-4209-a497-bc5086615a02",
   "metadata": {},
   "outputs": [
    {
     "data": {
      "text/plain": [
       "array([1, 2, 3, 4, 5, 6])"
      ]
     },
     "execution_count": 102,
     "metadata": {},
     "output_type": "execute_result"
    }
   ],
   "source": [
    "np.concatenate([x,y])"
   ]
  },
  {
   "cell_type": "code",
   "execution_count": 104,
   "id": "d2d981b7-a063-4f80-a108-34e3217b0cab",
   "metadata": {},
   "outputs": [],
   "source": [
    "z=np.array([7,8,9])"
   ]
  },
  {
   "cell_type": "code",
   "execution_count": 106,
   "id": "8c55afe9-e2ca-43d4-8098-40fd37a78fb3",
   "metadata": {},
   "outputs": [
    {
     "data": {
      "text/plain": [
       "array([1, 2, 3, 4, 5, 6, 7, 8, 9])"
      ]
     },
     "execution_count": 106,
     "metadata": {},
     "output_type": "execute_result"
    }
   ],
   "source": [
    "np.concatenate([x,y,z]) # tek boyutlu dizileri birleştirdi"
   ]
  },
  {
   "cell_type": "code",
   "execution_count": 112,
   "id": "97e5eed1-9a62-4642-ac4a-a7677343f646",
   "metadata": {},
   "outputs": [],
   "source": [
    "a = np.array([[1,2,3],\n",
    "              [4,5,6]])"
   ]
  },
  {
   "cell_type": "code",
   "execution_count": 114,
   "id": "9b0ecfd2-3ab6-4e11-92f3-8e369b3c1fa7",
   "metadata": {},
   "outputs": [
    {
     "data": {
      "text/plain": [
       "array([[1, 2, 3],\n",
       "       [4, 5, 6],\n",
       "       [1, 2, 3],\n",
       "       [4, 5, 6]])"
      ]
     },
     "execution_count": 114,
     "metadata": {},
     "output_type": "execute_result"
    }
   ],
   "source": [
    "np.concatenate([a,a]) # iki boyutlu dizileri birleştirdi hatta aynı diziyi çoğalttı"
   ]
  },
  {
   "cell_type": "code",
   "execution_count": 116,
   "id": "c53034fb-6c06-473b-bae8-a62d0cd7f53d",
   "metadata": {},
   "outputs": [],
   "source": [
    "b=np.array([[7,8,9],[0,9,8]])"
   ]
  },
  {
   "cell_type": "code",
   "execution_count": 121,
   "id": "30f80cb5-922d-4750-a97b-40cf0683f6e7",
   "metadata": {},
   "outputs": [
    {
     "data": {
      "text/plain": [
       "array([[1, 2, 3],\n",
       "       [4, 5, 6],\n",
       "       [7, 8, 9],\n",
       "       [0, 9, 8]])"
      ]
     },
     "execution_count": 121,
     "metadata": {},
     "output_type": "execute_result"
    }
   ],
   "source": [
    "np.concatenate([a,b])"
   ]
  },
  {
   "cell_type": "code",
   "execution_count": 125,
   "id": "8641265a-5dbf-43e2-9abf-ae4e04c25bea",
   "metadata": {},
   "outputs": [
    {
     "data": {
      "text/plain": [
       "array([[1, 2, 3, 7, 8, 9],\n",
       "       [4, 5, 6, 0, 9, 8]])"
      ]
     },
     "execution_count": 125,
     "metadata": {},
     "output_type": "execute_result"
    }
   ],
   "source": [
    "np.concatenate([a,b],axis=1)# sütun bazlı birleştirme gerçekleşti axis=0 default ve satır bazlı birleştirme"
   ]
  },
  {
   "cell_type": "markdown",
   "id": "5ddf4750-8e9a-48c4-ab71-8280101b981c",
   "metadata": {},
   "source": [
    "# ARRAY AYIRMA (Splitting)"
   ]
  },
  {
   "cell_type": "code",
   "execution_count": 131,
   "id": "9ef87785-f468-4c75-a25e-41c957aea66a",
   "metadata": {},
   "outputs": [],
   "source": [
    "x=np.array([1,2,3,99,99,3,2,1])"
   ]
  },
  {
   "cell_type": "code",
   "execution_count": 133,
   "id": "0c7af33e-f66e-40c2-afdd-43ae0a097fdd",
   "metadata": {},
   "outputs": [
    {
     "data": {
      "text/plain": [
       "[array([1, 2, 3]), array([99, 99]), array([3, 2, 1])]"
      ]
     },
     "execution_count": 133,
     "metadata": {},
     "output_type": "execute_result"
    }
   ],
   "source": [
    "np.split(x,[3,5])"
   ]
  },
  {
   "cell_type": "code",
   "execution_count": 135,
   "id": "abeda6ff-bb98-4bed-a1fa-68e9d811c67f",
   "metadata": {},
   "outputs": [],
   "source": [
    "a,b,c=np.split(x,[3,5])"
   ]
  },
  {
   "cell_type": "code",
   "execution_count": 137,
   "id": "88ff303f-b7c0-46b3-8a03-28ec94a770e6",
   "metadata": {},
   "outputs": [
    {
     "data": {
      "text/plain": [
       "array([1, 2, 3])"
      ]
     },
     "execution_count": 137,
     "metadata": {},
     "output_type": "execute_result"
    }
   ],
   "source": [
    "a"
   ]
  },
  {
   "cell_type": "code",
   "execution_count": 139,
   "id": "c9461372-a7ab-4862-bf6e-48f73a47a60b",
   "metadata": {},
   "outputs": [
    {
     "data": {
      "text/plain": [
       "array([99, 99])"
      ]
     },
     "execution_count": 139,
     "metadata": {},
     "output_type": "execute_result"
    }
   ],
   "source": [
    "b"
   ]
  },
  {
   "cell_type": "code",
   "execution_count": 141,
   "id": "037200a9-5250-4d3a-8fd0-d6aae3acd0c3",
   "metadata": {},
   "outputs": [
    {
     "data": {
      "text/plain": [
       "array([3, 2, 1])"
      ]
     },
     "execution_count": 141,
     "metadata": {},
     "output_type": "execute_result"
    }
   ],
   "source": [
    "c"
   ]
  },
  {
   "cell_type": "code",
   "execution_count": 143,
   "id": "9bdfc020-296b-45ba-8fc4-00bd7516cb11",
   "metadata": {},
   "outputs": [],
   "source": [
    "# iki boyutlu ayırma işlemi"
   ]
  },
  {
   "cell_type": "code",
   "execution_count": 145,
   "id": "a3d2dfac-bb14-49f0-9327-0e8681dcbe44",
   "metadata": {},
   "outputs": [],
   "source": [
    "m=np.arange(16).reshape(4,4)"
   ]
  },
  {
   "cell_type": "code",
   "execution_count": 147,
   "id": "69dba55a-2bc4-4d90-896b-ea98a0671b9a",
   "metadata": {},
   "outputs": [
    {
     "data": {
      "text/plain": [
       "array([[ 0,  1,  2,  3],\n",
       "       [ 4,  5,  6,  7],\n",
       "       [ 8,  9, 10, 11],\n",
       "       [12, 13, 14, 15]])"
      ]
     },
     "execution_count": 147,
     "metadata": {},
     "output_type": "execute_result"
    }
   ],
   "source": [
    "m"
   ]
  },
  {
   "cell_type": "code",
   "execution_count": 149,
   "id": "e59a5dc5-e96c-47a1-a11d-af384e0a2a15",
   "metadata": {},
   "outputs": [
    {
     "data": {
      "text/plain": [
       "[array([[0, 1, 2, 3],\n",
       "        [4, 5, 6, 7]]),\n",
       " array([[ 8,  9, 10, 11],\n",
       "        [12, 13, 14, 15]])]"
      ]
     },
     "execution_count": 149,
     "metadata": {},
     "output_type": "execute_result"
    }
   ],
   "source": [
    "np.vsplit(m,[2]) # birinci parametre bölünecek array ikinci parametre index numarası "
   ]
  },
  {
   "cell_type": "code",
   "execution_count": 151,
   "id": "0ea672e2-b26f-469f-a334-980c23fa5fa0",
   "metadata": {},
   "outputs": [],
   "source": [
    "ust,alt=np.vsplit(m,[2])"
   ]
  },
  {
   "cell_type": "code",
   "execution_count": 153,
   "id": "4e0352fd-fa06-459b-ab22-e771ec26cfdf",
   "metadata": {},
   "outputs": [
    {
     "data": {
      "text/plain": [
       "array([[0, 1, 2, 3],\n",
       "       [4, 5, 6, 7]])"
      ]
     },
     "execution_count": 153,
     "metadata": {},
     "output_type": "execute_result"
    }
   ],
   "source": [
    "ust"
   ]
  },
  {
   "cell_type": "code",
   "execution_count": 155,
   "id": "83d392de-4713-48dc-913f-f612a2df4fd8",
   "metadata": {},
   "outputs": [
    {
     "data": {
      "text/plain": [
       "array([[ 8,  9, 10, 11],\n",
       "       [12, 13, 14, 15]])"
      ]
     },
     "execution_count": 155,
     "metadata": {},
     "output_type": "execute_result"
    }
   ],
   "source": [
    "alt"
   ]
  },
  {
   "cell_type": "code",
   "execution_count": 157,
   "id": "d1e7f8a1-4314-4346-9333-5989643cea89",
   "metadata": {},
   "outputs": [
    {
     "data": {
      "text/plain": [
       "[array([[ 0,  1],\n",
       "        [ 4,  5],\n",
       "        [ 8,  9],\n",
       "        [12, 13]]),\n",
       " array([[ 2,  3],\n",
       "        [ 6,  7],\n",
       "        [10, 11],\n",
       "        [14, 15]])]"
      ]
     },
     "execution_count": 157,
     "metadata": {},
     "output_type": "execute_result"
    }
   ],
   "source": [
    "np.hsplit(m,[2])"
   ]
  },
  {
   "cell_type": "code",
   "execution_count": 165,
   "id": "dc13577a-ad3f-4c3d-8bb7-45e19f33b92f",
   "metadata": {},
   "outputs": [],
   "source": [
    "sag,sol=np.hsplit(m,[2])"
   ]
  },
  {
   "cell_type": "code",
   "execution_count": 167,
   "id": "f0ca6d44-d1a6-4fb4-aed1-f0b4a92b67b9",
   "metadata": {},
   "outputs": [
    {
     "data": {
      "text/plain": [
       "array([[ 0,  1],\n",
       "       [ 4,  5],\n",
       "       [ 8,  9],\n",
       "       [12, 13]])"
      ]
     },
     "execution_count": 167,
     "metadata": {},
     "output_type": "execute_result"
    }
   ],
   "source": [
    "sag"
   ]
  },
  {
   "cell_type": "code",
   "execution_count": 169,
   "id": "6a6e8941-1251-4c56-9ca1-6a59641b7370",
   "metadata": {},
   "outputs": [
    {
     "data": {
      "text/plain": [
       "array([[ 2,  3],\n",
       "       [ 6,  7],\n",
       "       [10, 11],\n",
       "       [14, 15]])"
      ]
     },
     "execution_count": 169,
     "metadata": {},
     "output_type": "execute_result"
    }
   ],
   "source": [
    "sol"
   ]
  },
  {
   "cell_type": "markdown",
   "id": "fb1ea5cc-42ee-4f98-a001-5519bfaf858c",
   "metadata": {},
   "source": [
    "# ARRAY SIRALAMA (Sorting)"
   ]
  },
  {
   "cell_type": "code",
   "execution_count": 173,
   "id": "8bb0a638-c071-43c5-9225-b71c469fe4d7",
   "metadata": {},
   "outputs": [],
   "source": [
    "v=np.array([2,1,4,3,5])"
   ]
  },
  {
   "cell_type": "code",
   "execution_count": 175,
   "id": "15820fb6-e154-460b-8c34-ede91f7da11e",
   "metadata": {},
   "outputs": [
    {
     "data": {
      "text/plain": [
       "array([2, 1, 4, 3, 5])"
      ]
     },
     "execution_count": 175,
     "metadata": {},
     "output_type": "execute_result"
    }
   ],
   "source": [
    "v"
   ]
  },
  {
   "cell_type": "code",
   "execution_count": 178,
   "id": "5717474e-cb4a-4f04-aad7-65fd4280d68a",
   "metadata": {},
   "outputs": [
    {
     "data": {
      "text/plain": [
       "array([1, 2, 3, 4, 5])"
      ]
     },
     "execution_count": 178,
     "metadata": {},
     "output_type": "execute_result"
    }
   ],
   "source": [
    "np.sort(v)"
   ]
  },
  {
   "cell_type": "code",
   "execution_count": 180,
   "id": "561b9fc4-a8d8-492a-8263-358782b85a4b",
   "metadata": {},
   "outputs": [],
   "source": [
    "v.sort()"
   ]
  },
  {
   "cell_type": "code",
   "execution_count": 182,
   "id": "5db0358d-5aff-47d6-ae1d-5b536c5e60f4",
   "metadata": {},
   "outputs": [
    {
     "data": {
      "text/plain": [
       "array([1, 2, 3, 4, 5])"
      ]
     },
     "execution_count": 182,
     "metadata": {},
     "output_type": "execute_result"
    }
   ],
   "source": [
    "v"
   ]
  },
  {
   "cell_type": "code",
   "execution_count": 186,
   "id": "795d2de8-08f2-491f-be8b-28ee5f02ef23",
   "metadata": {},
   "outputs": [],
   "source": [
    "# iki boyutlu array sıralama"
   ]
  },
  {
   "cell_type": "code",
   "execution_count": 194,
   "id": "dd043562-d5f3-4b9f-ae51-acb3bf70464d",
   "metadata": {},
   "outputs": [],
   "source": [
    "m=np.random.normal(20,5,(3,3))"
   ]
  },
  {
   "cell_type": "code",
   "execution_count": 196,
   "id": "008c708f-206e-40b3-9dfb-6963bcfb73be",
   "metadata": {},
   "outputs": [
    {
     "data": {
      "text/plain": [
       "array([[16.67850406, 17.80294077, 21.27293834],\n",
       "       [ 6.09875931, 24.82506633, 22.04919964],\n",
       "       [20.48686341, 20.59918645,  7.40000643]])"
      ]
     },
     "execution_count": 196,
     "metadata": {},
     "output_type": "execute_result"
    }
   ],
   "source": [
    "m"
   ]
  },
  {
   "cell_type": "code",
   "execution_count": 198,
   "id": "dc2daaaa-8108-400f-b806-562000126325",
   "metadata": {},
   "outputs": [
    {
     "data": {
      "text/plain": [
       "array([[16.67850406, 17.80294077, 21.27293834],\n",
       "       [ 6.09875931, 22.04919964, 24.82506633],\n",
       "       [ 7.40000643, 20.48686341, 20.59918645]])"
      ]
     },
     "execution_count": 198,
     "metadata": {},
     "output_type": "execute_result"
    }
   ],
   "source": [
    "np.sort(m,axis=1) # satıra göre sıralama"
   ]
  },
  {
   "cell_type": "code",
   "execution_count": 200,
   "id": "153b4190-2f6f-4599-ab97-1b45df3c05c4",
   "metadata": {},
   "outputs": [
    {
     "data": {
      "text/plain": [
       "array([[ 6.09875931, 17.80294077,  7.40000643],\n",
       "       [16.67850406, 20.59918645, 21.27293834],\n",
       "       [20.48686341, 24.82506633, 22.04919964]])"
      ]
     },
     "execution_count": 200,
     "metadata": {},
     "output_type": "execute_result"
    }
   ],
   "source": [
    "np.sort(m,axis=0) # sütüna göre sıralama"
   ]
  },
  {
   "cell_type": "markdown",
   "id": "b41db379-57ce-45d4-9466-199143e9083e",
   "metadata": {},
   "source": [
    "# INDEX ILE ELEMANLARA ERIŞMEK (index)"
   ]
  },
  {
   "cell_type": "code",
   "execution_count": 203,
   "id": "36c38da3-35ff-419c-a9ee-4c8cece15fbe",
   "metadata": {},
   "outputs": [],
   "source": [
    "a=np.random.randint(10,size=10)"
   ]
  },
  {
   "cell_type": "code",
   "execution_count": 205,
   "id": "b8884351-6d71-4c61-af08-68eecb3413f5",
   "metadata": {},
   "outputs": [
    {
     "data": {
      "text/plain": [
       "array([2, 7, 8, 7, 1, 9, 7, 1, 6, 6])"
      ]
     },
     "execution_count": 205,
     "metadata": {},
     "output_type": "execute_result"
    }
   ],
   "source": [
    "a"
   ]
  },
  {
   "cell_type": "code",
   "execution_count": 207,
   "id": "76098a78-a1f9-471a-9dbe-69e7bd6a8adc",
   "metadata": {},
   "outputs": [
    {
     "data": {
      "text/plain": [
       "2"
      ]
     },
     "execution_count": 207,
     "metadata": {},
     "output_type": "execute_result"
    }
   ],
   "source": [
    "a[0]"
   ]
  },
  {
   "cell_type": "code",
   "execution_count": 209,
   "id": "156e70f3-d7d7-4441-a4d8-bd0f1f62e24d",
   "metadata": {},
   "outputs": [
    {
     "data": {
      "text/plain": [
       "6"
      ]
     },
     "execution_count": 209,
     "metadata": {},
     "output_type": "execute_result"
    }
   ],
   "source": [
    "a[-1]"
   ]
  },
  {
   "cell_type": "code",
   "execution_count": 211,
   "id": "b2cb55ca-4310-4745-ba26-d4e2e5d497c0",
   "metadata": {},
   "outputs": [],
   "source": [
    "a[0]=100"
   ]
  },
  {
   "cell_type": "code",
   "execution_count": 213,
   "id": "6c251430-15dd-47b5-a607-910dd7244f5e",
   "metadata": {},
   "outputs": [
    {
     "data": {
      "text/plain": [
       "array([100,   7,   8,   7,   1,   9,   7,   1,   6,   6])"
      ]
     },
     "execution_count": 213,
     "metadata": {},
     "output_type": "execute_result"
    }
   ],
   "source": [
    "a"
   ]
  },
  {
   "cell_type": "code",
   "execution_count": 217,
   "id": "91c86aa4-c21f-4e89-b201-e4271d49d15e",
   "metadata": {},
   "outputs": [],
   "source": [
    "m=np.random.randint(10,size=(3,5))"
   ]
  },
  {
   "cell_type": "code",
   "execution_count": 219,
   "id": "5f8f7e05-7e9b-44bc-aeda-dc815a53c346",
   "metadata": {},
   "outputs": [
    {
     "data": {
      "text/plain": [
       "array([[0, 9, 3, 4, 5],\n",
       "       [6, 1, 8, 2, 8],\n",
       "       [9, 5, 6, 6, 4]])"
      ]
     },
     "execution_count": 219,
     "metadata": {},
     "output_type": "execute_result"
    }
   ],
   "source": [
    "m"
   ]
  },
  {
   "cell_type": "code",
   "execution_count": 221,
   "id": "dd296489-f25c-425f-ab1b-1e4bbe983ca5",
   "metadata": {},
   "outputs": [
    {
     "data": {
      "text/plain": [
       "0"
      ]
     },
     "execution_count": 221,
     "metadata": {},
     "output_type": "execute_result"
    }
   ],
   "source": [
    "m[0,0]"
   ]
  },
  {
   "cell_type": "code",
   "execution_count": 223,
   "id": "76b55252-8b6e-4405-8d94-f4a30a1ba622",
   "metadata": {},
   "outputs": [
    {
     "data": {
      "text/plain": [
       "9"
      ]
     },
     "execution_count": 223,
     "metadata": {},
     "output_type": "execute_result"
    }
   ],
   "source": [
    "m[0,1]"
   ]
  },
  {
   "cell_type": "code",
   "execution_count": 227,
   "id": "4212ecad-986f-4d8f-bc61-3f81a65e1699",
   "metadata": {},
   "outputs": [],
   "source": [
    "m[1,4]=99"
   ]
  },
  {
   "cell_type": "code",
   "execution_count": 229,
   "id": "7d1342dc-2dff-4670-894e-c3355309f142",
   "metadata": {},
   "outputs": [
    {
     "data": {
      "text/plain": [
       "array([[ 0,  9,  3,  4,  5],\n",
       "       [ 6,  1,  8,  2, 99],\n",
       "       [ 9,  5,  6,  6,  4]])"
      ]
     },
     "execution_count": 229,
     "metadata": {},
     "output_type": "execute_result"
    }
   ],
   "source": [
    "m"
   ]
  },
  {
   "cell_type": "code",
   "execution_count": 231,
   "id": "2cb089f7-4eec-44bf-b5fc-74c778e2ac04",
   "metadata": {},
   "outputs": [],
   "source": [
    "m[1,4]=2.2"
   ]
  },
  {
   "cell_type": "code",
   "execution_count": 233,
   "id": "f97c1fca-5e7c-4237-90c7-26ba7c557d96",
   "metadata": {},
   "outputs": [
    {
     "data": {
      "text/plain": [
       "array([[0, 9, 3, 4, 5],\n",
       "       [6, 1, 8, 2, 2],\n",
       "       [9, 5, 6, 6, 4]])"
      ]
     },
     "execution_count": 233,
     "metadata": {},
     "output_type": "execute_result"
    }
   ],
   "source": [
    "m"
   ]
  },
  {
   "cell_type": "markdown",
   "id": "fa339605-f54d-4f08-95f4-3654b04dacf5",
   "metadata": {},
   "source": [
    "# Slicing ile Elemanlara Erişmek (Array alt Kümesine Erişmek)"
   ]
  },
  {
   "cell_type": "code",
   "execution_count": 236,
   "id": "6fda49d1-7410-4d3c-bbb1-c8ad6db46f87",
   "metadata": {},
   "outputs": [],
   "source": [
    "a=np.arange(20,30)"
   ]
  },
  {
   "cell_type": "code",
   "execution_count": 238,
   "id": "dabb0293-374e-47cc-bea7-fed202bc4932",
   "metadata": {},
   "outputs": [
    {
     "data": {
      "text/plain": [
       "array([20, 21, 22, 23, 24, 25, 26, 27, 28, 29])"
      ]
     },
     "execution_count": 238,
     "metadata": {},
     "output_type": "execute_result"
    }
   ],
   "source": [
    "a"
   ]
  },
  {
   "cell_type": "code",
   "execution_count": 244,
   "id": "592aee95-bed4-4d10-b989-2fa8dfc5e969",
   "metadata": {},
   "outputs": [
    {
     "data": {
      "text/plain": [
       "array([20, 21, 22, 23, 24, 25, 26, 27, 28, 29])"
      ]
     },
     "execution_count": 244,
     "metadata": {},
     "output_type": "execute_result"
    }
   ],
   "source": [
    "a[:] # aralıklı seçme işlemi \":\" işaretinin solundaki index başlangıç sağındaki bitişi temsil ediyor"
   ]
  },
  {
   "cell_type": "code",
   "execution_count": 248,
   "id": "95ca3140-18a9-484a-8992-6ab2b6dd64f8",
   "metadata": {},
   "outputs": [
    {
     "data": {
      "text/plain": [
       "array([20, 21, 22, 23, 24])"
      ]
     },
     "execution_count": 248,
     "metadata": {},
     "output_type": "execute_result"
    }
   ],
   "source": [
    "a[0:5]"
   ]
  },
  {
   "cell_type": "code",
   "execution_count": 250,
   "id": "bcbcbccc-b592-4acc-9b3a-f8d4c8d170dd",
   "metadata": {},
   "outputs": [
    {
     "data": {
      "text/plain": [
       "array([20, 21, 22])"
      ]
     },
     "execution_count": 250,
     "metadata": {},
     "output_type": "execute_result"
    }
   ],
   "source": [
    "a[:3]"
   ]
  },
  {
   "cell_type": "code",
   "execution_count": 252,
   "id": "f163eeba-21cb-46bd-98f0-367a7f9c96c1",
   "metadata": {},
   "outputs": [
    {
     "data": {
      "text/plain": [
       "array([23, 24, 25, 26, 27, 28, 29])"
      ]
     },
     "execution_count": 252,
     "metadata": {},
     "output_type": "execute_result"
    }
   ],
   "source": [
    "a[3:]"
   ]
  },
  {
   "cell_type": "code",
   "execution_count": 260,
   "id": "4c192339-11f8-472e-ba27-92698ea1e1a3",
   "metadata": {},
   "outputs": [
    {
     "data": {
      "text/plain": [
       "array([21, 23, 25, 27, 29])"
      ]
     },
     "execution_count": 260,
     "metadata": {},
     "output_type": "execute_result"
    }
   ],
   "source": [
    "a[1::2] # birinci elemandan başla ikişer ikişer atlayarak diziyi göster"
   ]
  },
  {
   "cell_type": "code",
   "execution_count": 262,
   "id": "d5cfa134-021a-4a91-aa9e-233c208f7da8",
   "metadata": {},
   "outputs": [],
   "source": [
    "# iki boyutlu slice islemleri"
   ]
  },
  {
   "cell_type": "code",
   "execution_count": 266,
   "id": "d4cd7410-b89c-4c70-83e9-eb9038f5638c",
   "metadata": {},
   "outputs": [],
   "source": [
    "m= np.random.randint(10,size=(5,5))"
   ]
  },
  {
   "cell_type": "code",
   "execution_count": 268,
   "id": "e140956a-78cb-434a-8f5b-9d9eee29128e",
   "metadata": {},
   "outputs": [
    {
     "data": {
      "text/plain": [
       "array([[1, 6, 4, 1, 4],\n",
       "       [4, 9, 4, 3, 8],\n",
       "       [4, 3, 3, 9, 4],\n",
       "       [6, 9, 8, 7, 1],\n",
       "       [8, 3, 1, 0, 0]])"
      ]
     },
     "execution_count": 268,
     "metadata": {},
     "output_type": "execute_result"
    }
   ],
   "source": [
    "m"
   ]
  },
  {
   "cell_type": "code",
   "execution_count": 272,
   "id": "d3b47520-1cc4-4a2d-beb7-03c88f3818c3",
   "metadata": {},
   "outputs": [
    {
     "data": {
      "text/plain": [
       "array([1, 4, 4, 6, 8])"
      ]
     },
     "execution_count": 272,
     "metadata": {},
     "output_type": "execute_result"
    }
   ],
   "source": [
    "m[:,0] # \":\" solundaki satır sağındaki sütunu temsil ediyor bütün satırları seç ve 0 ıncı sütunu getir"
   ]
  },
  {
   "cell_type": "code",
   "execution_count": 274,
   "id": "2ec957e3-0ddf-4702-86a4-242833fc2c85",
   "metadata": {},
   "outputs": [
    {
     "data": {
      "text/plain": [
       "array([4, 8, 4, 1, 0])"
      ]
     },
     "execution_count": 274,
     "metadata": {},
     "output_type": "execute_result"
    }
   ],
   "source": [
    "m[:,4]"
   ]
  },
  {
   "cell_type": "code",
   "execution_count": 276,
   "id": "d939be4e-d33b-43b4-aeef-3e7911ae6e67",
   "metadata": {},
   "outputs": [
    {
     "data": {
      "text/plain": [
       "array([6, 9, 3, 9, 3])"
      ]
     },
     "execution_count": 276,
     "metadata": {},
     "output_type": "execute_result"
    }
   ],
   "source": [
    "m[:,1]"
   ]
  },
  {
   "cell_type": "code",
   "execution_count": 280,
   "id": "f3fd7095-742b-4161-bfdb-ee00f7d9bcd4",
   "metadata": {},
   "outputs": [
    {
     "data": {
      "text/plain": [
       "array([[1, 6, 4, 1, 4],\n",
       "       [4, 9, 4, 3, 8],\n",
       "       [4, 3, 3, 9, 4],\n",
       "       [6, 9, 8, 7, 1],\n",
       "       [8, 3, 1, 0, 0]])"
      ]
     },
     "execution_count": 280,
     "metadata": {},
     "output_type": "execute_result"
    }
   ],
   "source": [
    "m"
   ]
  },
  {
   "cell_type": "code",
   "execution_count": 282,
   "id": "16283e9f-92b9-48ca-913e-f4155fc47d3c",
   "metadata": {},
   "outputs": [
    {
     "data": {
      "text/plain": [
       "array([1, 6, 4, 1, 4])"
      ]
     },
     "execution_count": 282,
     "metadata": {},
     "output_type": "execute_result"
    }
   ],
   "source": [
    "m[0,:]"
   ]
  },
  {
   "cell_type": "code",
   "execution_count": 285,
   "id": "7a1f231f-7180-4132-8ada-d93ccd86260c",
   "metadata": {},
   "outputs": [
    {
     "data": {
      "text/plain": [
       "array([1, 6, 4, 1, 4])"
      ]
     },
     "execution_count": 285,
     "metadata": {},
     "output_type": "execute_result"
    }
   ],
   "source": [
    "m[0]"
   ]
  },
  {
   "cell_type": "code",
   "execution_count": 287,
   "id": "33ce0820-c36d-4f2f-8f8d-e97094e700d3",
   "metadata": {},
   "outputs": [
    {
     "data": {
      "text/plain": [
       "array([4, 9, 4, 3, 8])"
      ]
     },
     "execution_count": 287,
     "metadata": {},
     "output_type": "execute_result"
    }
   ],
   "source": [
    "m[1,:]"
   ]
  },
  {
   "cell_type": "code",
   "execution_count": 291,
   "id": "b11ddbaf-536b-4ac5-9ce0-6d4a968ffe88",
   "metadata": {},
   "outputs": [
    {
     "data": {
      "text/plain": [
       "array([[1, 6, 4],\n",
       "       [4, 9, 4]])"
      ]
     },
     "execution_count": 291,
     "metadata": {},
     "output_type": "execute_result"
    }
   ],
   "source": [
    "m[0:2,0:3] # 0 dan 2 ye kadar satırları ve 0 dan 3 e kadar sütunları göster"
   ]
  },
  {
   "cell_type": "code",
   "execution_count": 296,
   "id": "5457737b-9645-49a2-90e7-6bb666c29a6f",
   "metadata": {},
   "outputs": [
    {
     "data": {
      "text/plain": [
       "array([[1, 6],\n",
       "       [4, 9],\n",
       "       [4, 3],\n",
       "       [6, 9],\n",
       "       [8, 3]])"
      ]
     },
     "execution_count": 296,
     "metadata": {},
     "output_type": "execute_result"
    }
   ],
   "source": [
    "m[::,:2]"
   ]
  },
  {
   "cell_type": "code",
   "execution_count": 300,
   "id": "b4ee6e43-b915-4519-a33e-c9e5bedff2c0",
   "metadata": {},
   "outputs": [
    {
     "data": {
      "text/plain": [
       "array([[1, 6, 4, 1, 4],\n",
       "       [4, 9, 4, 3, 8],\n",
       "       [4, 3, 3, 9, 4],\n",
       "       [6, 9, 8, 7, 1],\n",
       "       [8, 3, 1, 0, 0]])"
      ]
     },
     "execution_count": 300,
     "metadata": {},
     "output_type": "execute_result"
    }
   ],
   "source": [
    "m"
   ]
  },
  {
   "cell_type": "code",
   "execution_count": 302,
   "id": "c39bf19f-2f49-484a-abf5-f5994bbf8461",
   "metadata": {},
   "outputs": [
    {
     "data": {
      "text/plain": [
       "array([[4, 9],\n",
       "       [4, 3]])"
      ]
     },
     "execution_count": 302,
     "metadata": {},
     "output_type": "execute_result"
    }
   ],
   "source": [
    "m[1:3,0:2]"
   ]
  },
  {
   "cell_type": "markdown",
   "id": "1e783be3-ce24-4e7f-b7c2-c038af08e04c",
   "metadata": {},
   "source": [
    "# Alt Küme Üzerinde İşlem Yapmak"
   ]
  },
  {
   "cell_type": "code",
   "execution_count": 304,
   "id": "613acfc4-b573-470a-b4b1-2f4d65d78c1c",
   "metadata": {},
   "outputs": [],
   "source": [
    "a= np.random.randint(10,size=(5,5))"
   ]
  },
  {
   "cell_type": "code",
   "execution_count": 306,
   "id": "19d636ea-6c92-42d5-8cf0-c531f103c40d",
   "metadata": {},
   "outputs": [
    {
     "data": {
      "text/plain": [
       "array([[5, 1, 1, 8, 4],\n",
       "       [9, 5, 9, 8, 1],\n",
       "       [0, 3, 1, 1, 9],\n",
       "       [0, 6, 0, 2, 9],\n",
       "       [5, 1, 9, 6, 2]])"
      ]
     },
     "execution_count": 306,
     "metadata": {},
     "output_type": "execute_result"
    }
   ],
   "source": [
    "a"
   ]
  },
  {
   "cell_type": "code",
   "execution_count": 309,
   "id": "ebc2e749-a3e2-4f77-a089-ca5813c879d8",
   "metadata": {},
   "outputs": [],
   "source": [
    "alt_a = a[0:3,0:2]"
   ]
  },
  {
   "cell_type": "code",
   "execution_count": 311,
   "id": "da9d0854-7fab-4f66-848f-cef9151ffbef",
   "metadata": {},
   "outputs": [
    {
     "data": {
      "text/plain": [
       "array([[5, 1],\n",
       "       [9, 5],\n",
       "       [0, 3]])"
      ]
     },
     "execution_count": 311,
     "metadata": {},
     "output_type": "execute_result"
    }
   ],
   "source": [
    "alt_a"
   ]
  },
  {
   "cell_type": "code",
   "execution_count": 317,
   "id": "b9d8b61b-5c63-44d3-9c2b-06b38ad00d57",
   "metadata": {},
   "outputs": [],
   "source": [
    "alt_a[0,0]=9999\n",
    "alt_a[1,1]=888"
   ]
  },
  {
   "cell_type": "code",
   "execution_count": 319,
   "id": "04a01f23-f9b9-4811-a1db-522826276435",
   "metadata": {},
   "outputs": [
    {
     "data": {
      "text/plain": [
       "array([[9999,    1],\n",
       "       [   9,  888],\n",
       "       [   0,    3]])"
      ]
     },
     "execution_count": 319,
     "metadata": {},
     "output_type": "execute_result"
    }
   ],
   "source": [
    "alt_a"
   ]
  },
  {
   "cell_type": "code",
   "execution_count": 323,
   "id": "85d42acc-13ed-47f3-90a2-ccf1f4bb42ae",
   "metadata": {},
   "outputs": [
    {
     "data": {
      "text/plain": [
       "array([[9999,    1,    1,    8,    4],\n",
       "       [   9,  888,    9,    8,    1],\n",
       "       [   0,    3,    1,    1,    9],\n",
       "       [   0,    6,    0,    2,    9],\n",
       "       [   5,    1,    9,    6,    2]])"
      ]
     },
     "execution_count": 323,
     "metadata": {},
     "output_type": "execute_result"
    }
   ],
   "source": [
    "a # oluşturulan alt kümedeki yapılan değişiklikler ana arrayin elemanlarını değiştirdi"
   ]
  },
  {
   "cell_type": "code",
   "execution_count": 325,
   "id": "8cf374c6-c3d0-48fc-a582-17be2aca74dc",
   "metadata": {},
   "outputs": [],
   "source": [
    "m= np.random.randint(10,size=(5,5))"
   ]
  },
  {
   "cell_type": "code",
   "execution_count": 327,
   "id": "1f73f332-7eb4-40c9-9d6e-453f69ccf544",
   "metadata": {},
   "outputs": [
    {
     "data": {
      "text/plain": [
       "array([[3, 9, 4, 5, 6],\n",
       "       [1, 6, 9, 5, 5],\n",
       "       [2, 7, 6, 7, 5],\n",
       "       [4, 0, 0, 4, 6],\n",
       "       [8, 6, 6, 5, 1]])"
      ]
     },
     "execution_count": 327,
     "metadata": {},
     "output_type": "execute_result"
    }
   ],
   "source": [
    "m"
   ]
  },
  {
   "cell_type": "code",
   "execution_count": 333,
   "id": "2eb08d29-a508-4f59-9432-0ae606926a2c",
   "metadata": {},
   "outputs": [
    {
     "data": {
      "text/plain": [
       "array([[3, 9],\n",
       "       [1, 6],\n",
       "       [2, 7]])"
      ]
     },
     "execution_count": 333,
     "metadata": {},
     "output_type": "execute_result"
    }
   ],
   "source": [
    "alt_b=m[0:3,0:2].copy()\n",
    "alt_b"
   ]
  },
  {
   "cell_type": "code",
   "execution_count": 337,
   "id": "0044a592-edbe-4dfa-b852-b3d17833e046",
   "metadata": {},
   "outputs": [],
   "source": [
    "alt_b[0,0]=9999"
   ]
  },
  {
   "cell_type": "code",
   "execution_count": 339,
   "id": "1bcdb0df-63c0-41ec-a169-86811b7130d3",
   "metadata": {},
   "outputs": [
    {
     "data": {
      "text/plain": [
       "array([[9999,    9],\n",
       "       [   1,    6],\n",
       "       [   2,    7]])"
      ]
     },
     "execution_count": 339,
     "metadata": {},
     "output_type": "execute_result"
    }
   ],
   "source": [
    "alt_b"
   ]
  },
  {
   "cell_type": "code",
   "execution_count": 341,
   "id": "46bf15e7-96fd-47d8-8d4d-079986156c89",
   "metadata": {},
   "outputs": [
    {
     "data": {
      "text/plain": [
       "array([[3, 9, 4, 5, 6],\n",
       "       [1, 6, 9, 5, 5],\n",
       "       [2, 7, 6, 7, 5],\n",
       "       [4, 0, 0, 4, 6],\n",
       "       [8, 6, 6, 5, 1]])"
      ]
     },
     "execution_count": 341,
     "metadata": {},
     "output_type": "execute_result"
    }
   ],
   "source": [
    "m"
   ]
  },
  {
   "cell_type": "markdown",
   "id": "a6456a1e-3511-401c-a686-0495fa4b4f1c",
   "metadata": {},
   "source": [
    "# Fancy Index ile Elemanlara Erişmek"
   ]
  },
  {
   "cell_type": "code",
   "execution_count": 347,
   "id": "fe8b8155-b35d-43d9-b812-5096921838d0",
   "metadata": {},
   "outputs": [],
   "source": [
    "v = np.arange(0,30,3)"
   ]
  },
  {
   "cell_type": "code",
   "execution_count": 349,
   "id": "bcc175f3-d855-41f9-9554-08eb2b9d366d",
   "metadata": {},
   "outputs": [
    {
     "data": {
      "text/plain": [
       "array([ 0,  3,  6,  9, 12, 15, 18, 21, 24, 27])"
      ]
     },
     "execution_count": 349,
     "metadata": {},
     "output_type": "execute_result"
    }
   ],
   "source": [
    "v"
   ]
  },
  {
   "cell_type": "code",
   "execution_count": 351,
   "id": "b22daa54-56fe-4fa4-8483-b7d4b17f7649",
   "metadata": {},
   "outputs": [],
   "source": [
    "# indexlerine göre normalde çağıra biliyorum"
   ]
  },
  {
   "cell_type": "code",
   "execution_count": 353,
   "id": "9db71c15-552b-4eb1-b21a-b761d23098a8",
   "metadata": {},
   "outputs": [
    {
     "data": {
      "text/plain": [
       "0"
      ]
     },
     "execution_count": 353,
     "metadata": {},
     "output_type": "execute_result"
    }
   ],
   "source": [
    "v[0]"
   ]
  },
  {
   "cell_type": "code",
   "execution_count": 363,
   "id": "9202c3fc-4b6b-4b26-93ca-341f7a2521d0",
   "metadata": {},
   "outputs": [
    {
     "data": {
      "text/plain": [
       "9"
      ]
     },
     "execution_count": 363,
     "metadata": {},
     "output_type": "execute_result"
    }
   ],
   "source": [
    "v[3]"
   ]
  },
  {
   "cell_type": "code",
   "execution_count": 357,
   "id": "a73cd681-62ce-4478-9ef4-36bcba942089",
   "metadata": {},
   "outputs": [
    {
     "data": {
      "text/plain": [
       "15"
      ]
     },
     "execution_count": 357,
     "metadata": {},
     "output_type": "execute_result"
    }
   ],
   "source": [
    "v[5]"
   ]
  },
  {
   "cell_type": "code",
   "execution_count": 359,
   "id": "30356295-ddfe-4e48-b2d3-cfb8cb91f63f",
   "metadata": {},
   "outputs": [],
   "source": [
    "# hatta indexlerine göre yeni bir liste bile oluşturabiliyorum"
   ]
  },
  {
   "cell_type": "code",
   "execution_count": 365,
   "id": "93ee81c0-5a55-4a0a-91ad-01a4a8b7edcf",
   "metadata": {},
   "outputs": [
    {
     "data": {
      "text/plain": [
       "[0, 9, 15]"
      ]
     },
     "execution_count": 365,
     "metadata": {},
     "output_type": "execute_result"
    }
   ],
   "source": [
    "[v[0],v[3],v[5]]"
   ]
  },
  {
   "cell_type": "code",
   "execution_count": 367,
   "id": "9b51110c-85c4-4001-beff-d0b85acc6c35",
   "metadata": {},
   "outputs": [],
   "source": [
    "al_getir=[1,3,5]"
   ]
  },
  {
   "cell_type": "code",
   "execution_count": 371,
   "id": "4613fc5a-9fc8-4985-963e-2292cf29bcc8",
   "metadata": {},
   "outputs": [
    {
     "data": {
      "text/plain": [
       "array([ 3,  9, 15])"
      ]
     },
     "execution_count": 371,
     "metadata": {},
     "output_type": "execute_result"
    }
   ],
   "source": [
    "v[al_getir]"
   ]
  },
  {
   "cell_type": "markdown",
   "id": "8614b717-2b46-407e-8069-a26d5ca8bd6a",
   "metadata": {},
   "source": [
    "* bir liste oluşturuyorum \"al_getir\" ve o listeye işlem yapacağım ana lisntenin index değerlerini giriyorum sonra işlem yapacağım \"v\" listesinin içerisine oluşturduğum listeyi veriyorum ve sonuç index değerlerini verdiğim elemanlardan oluşan yeni bir liste oluşuyor büyük verilerde çok işe yarayan bir yöntem Fancy Index"
   ]
  },
  {
   "cell_type": "code",
   "execution_count": 374,
   "id": "54110a30-5fcd-47fc-806f-3020920005e5",
   "metadata": {},
   "outputs": [],
   "source": [
    "m = np.arange(9).reshape(3,3)"
   ]
  },
  {
   "cell_type": "code",
   "execution_count": 376,
   "id": "11fa87bf-a3ca-408c-8e07-18865f85d775",
   "metadata": {},
   "outputs": [
    {
     "data": {
      "text/plain": [
       "array([[0, 1, 2],\n",
       "       [3, 4, 5],\n",
       "       [6, 7, 8]])"
      ]
     },
     "execution_count": 376,
     "metadata": {},
     "output_type": "execute_result"
    }
   ],
   "source": [
    "m"
   ]
  },
  {
   "cell_type": "code",
   "execution_count": 378,
   "id": "67792925-e734-4cb1-9b3e-649be7df75be",
   "metadata": {},
   "outputs": [],
   "source": [
    "satir=np.array([0,1])\n",
    "sutun=np.array([1,2])"
   ]
  },
  {
   "cell_type": "code",
   "execution_count": 387,
   "id": "7402200f-2c14-4d07-ac63-5d2ac8499102",
   "metadata": {},
   "outputs": [
    {
     "data": {
      "text/plain": [
       "array([1, 5])"
      ]
     },
     "execution_count": 387,
     "metadata": {},
     "output_type": "execute_result"
    }
   ],
   "source": [
    "m[satir,sutun] # çok boyutlu dizilerde bu şekilde indexleri göster sana değerlerini getirsin"
   ]
  },
  {
   "cell_type": "markdown",
   "id": "b5749356-ee30-4064-87eb-b30a00571b7a",
   "metadata": {},
   "source": [
    "* Basit indexleme ile fancy index kullanılabilir"
   ]
  },
  {
   "cell_type": "code",
   "execution_count": 392,
   "id": "be043d59-93b0-4227-9362-241aea335e04",
   "metadata": {},
   "outputs": [
    {
     "data": {
      "text/plain": [
       "array([[0, 1, 2],\n",
       "       [3, 4, 5],\n",
       "       [6, 7, 8]])"
      ]
     },
     "execution_count": 392,
     "metadata": {},
     "output_type": "execute_result"
    }
   ],
   "source": [
    "m"
   ]
  },
  {
   "cell_type": "code",
   "execution_count": 394,
   "id": "79921f6d-41b9-444c-b62c-42908256a7dc",
   "metadata": {},
   "outputs": [
    {
     "data": {
      "text/plain": [
       "array([1, 2])"
      ]
     },
     "execution_count": 394,
     "metadata": {},
     "output_type": "execute_result"
    }
   ],
   "source": [
    "m[0,[1,2]] # m matrixinin 0 indexi ile 1.satır ve 2. sütundaki indexi al"
   ]
  },
  {
   "cell_type": "markdown",
   "id": "4be0b5f1-04fe-4fb5-b5cd-e8d1ac893ccf",
   "metadata": {},
   "source": [
    "* m[0, [1, 2]] ifadesi şunları yapar:\n",
    "* m[0]: Matrisin 0. satırını seçer.\n",
    "* Bu, m[0] şu satırı verir: [0, 1, 2].\n",
    "* [1, 2]: Bu kısım, 0. satırın 1. ve 2. sütunlarındaki elemanları seçer.\n",
    "* Yani, m[0, [1, 2]], matrisin 0. satırının 1. ve 2. sütunlarındaki elemanları döndürür.\n",
    "* Eğer m matrisi şu şekilde ise:\n",
    "* m = [[0, 1, 2],\n",
    "     [3, 4, 5],\n",
    "     [6, 7, 8]]\n",
    "* m[0, [1, 2]], bu matristen [1, 2] sonucunu verecektir. Yani 0. satırdaki 1. ve 2. elemanları seçmiş olursun."
   ]
  },
  {
   "cell_type": "code",
   "execution_count": 398,
   "id": "2aff20c1-bb4c-4a76-b224-918602496bb0",
   "metadata": {},
   "outputs": [],
   "source": [
    "# slice ile birlikte fancy Index kullanımı"
   ]
  },
  {
   "cell_type": "code",
   "execution_count": 400,
   "id": "7fe5944a-d00f-4488-859e-b4e4a7445137",
   "metadata": {},
   "outputs": [
    {
     "data": {
      "text/plain": [
       "array([[0, 1, 2],\n",
       "       [3, 4, 5],\n",
       "       [6, 7, 8]])"
      ]
     },
     "execution_count": 400,
     "metadata": {},
     "output_type": "execute_result"
    }
   ],
   "source": [
    "m"
   ]
  },
  {
   "cell_type": "code",
   "execution_count": 402,
   "id": "a16b2349-ff90-48bc-bfd0-fe9bbac844d7",
   "metadata": {},
   "outputs": [
    {
     "data": {
      "text/plain": [
       "array([[1, 2],\n",
       "       [4, 5],\n",
       "       [7, 8]])"
      ]
     },
     "execution_count": 402,
     "metadata": {},
     "output_type": "execute_result"
    }
   ],
   "source": [
    "m[0:,[1,2]]"
   ]
  },
  {
   "cell_type": "markdown",
   "id": "678394b1-ecba-4a3f-aa5e-d79a2f6adf44",
   "metadata": {},
   "source": [
    "* Yani, m[0:, [1, 2]] şu işlemi yapar:\n",
    "* Sıfırıcı 0. satırdan başlayarak tüm satırları al (yani matrisin tamamını).\n",
    "* Her satırdan 1. ve 2. sütunlardaki elemanları seç."
   ]
  },
  {
   "cell_type": "markdown",
   "id": "6e5ff92e-2acc-4fde-9572-c51cb83ebc2d",
   "metadata": {},
   "source": [
    "# KOŞULLU ELEMAN İŞLEMLERİ"
   ]
  },
  {
   "cell_type": "code",
   "execution_count": 412,
   "id": "e56c2336-606b-4d10-b255-e1038222711a",
   "metadata": {},
   "outputs": [],
   "source": [
    "v = np.array([1,2,3,4,5])"
   ]
  },
  {
   "cell_type": "code",
   "execution_count": 424,
   "id": "e1b8b6cd-f778-47ec-8aac-6bcf0f0d9445",
   "metadata": {},
   "outputs": [
    {
     "data": {
      "text/plain": [
       "array([ True,  True, False, False, False])"
      ]
     },
     "execution_count": 424,
     "metadata": {},
     "output_type": "execute_result"
    }
   ],
   "source": [
    "v < 3 # v vektöründeki şarta uyanları göster "
   ]
  },
  {
   "cell_type": "code",
   "execution_count": 426,
   "id": "ce21900a-6991-44eb-8273-9b5c77355e1b",
   "metadata": {},
   "outputs": [],
   "source": [
    "a=v[v<3] # a değişkenine şarta uyanları atama yap"
   ]
  },
  {
   "cell_type": "code",
   "execution_count": 420,
   "id": "4f5e2372-332e-484e-b99e-028685fd9979",
   "metadata": {},
   "outputs": [
    {
     "data": {
      "text/plain": [
       "array([1, 2])"
      ]
     },
     "execution_count": 420,
     "metadata": {},
     "output_type": "execute_result"
    }
   ],
   "source": [
    "a"
   ]
  },
  {
   "cell_type": "code",
   "execution_count": 428,
   "id": "c609780d-0113-4abc-89b1-62de6fd6f64d",
   "metadata": {},
   "outputs": [
    {
     "data": {
      "text/plain": [
       "array([2, 3])"
      ]
     },
     "execution_count": 428,
     "metadata": {},
     "output_type": "execute_result"
    }
   ],
   "source": [
    "v[a] # v vektörünün a indexlerine göre değerlerini getir"
   ]
  },
  {
   "cell_type": "code",
   "execution_count": 436,
   "id": "2f48ea4e-ece4-43f8-8df8-99ce2373712e",
   "metadata": {},
   "outputs": [
    {
     "data": {
      "text/plain": [
       "array([1, 2, 3, 4, 5])"
      ]
     },
     "execution_count": 436,
     "metadata": {},
     "output_type": "execute_result"
    }
   ],
   "source": [
    "v"
   ]
  },
  {
   "cell_type": "code",
   "execution_count": 438,
   "id": "b50d62c0-916e-4034-9d22-eb0a5e3e7083",
   "metadata": {},
   "outputs": [
    {
     "data": {
      "text/plain": [
       "array([3, 4, 5])"
      ]
     },
     "execution_count": 438,
     "metadata": {},
     "output_type": "execute_result"
    }
   ],
   "source": [
    "v[v>=3]"
   ]
  },
  {
   "cell_type": "code",
   "execution_count": 440,
   "id": "85cab6a5-e2c7-4926-bcac-4b2b508169cc",
   "metadata": {},
   "outputs": [
    {
     "data": {
      "text/plain": [
       "array([1, 2, 3])"
      ]
     },
     "execution_count": 440,
     "metadata": {},
     "output_type": "execute_result"
    }
   ],
   "source": [
    "v[v<=3]"
   ]
  },
  {
   "cell_type": "code",
   "execution_count": 442,
   "id": "a0252105-fd88-49b9-92b7-146691b0275f",
   "metadata": {},
   "outputs": [
    {
     "data": {
      "text/plain": [
       "array([3])"
      ]
     },
     "execution_count": 442,
     "metadata": {},
     "output_type": "execute_result"
    }
   ],
   "source": [
    "v[v==3]"
   ]
  },
  {
   "cell_type": "code",
   "execution_count": 444,
   "id": "1821c8b8-bc3e-472d-bccc-fba77f19341f",
   "metadata": {},
   "outputs": [
    {
     "data": {
      "text/plain": [
       "array([1, 2, 4, 5])"
      ]
     },
     "execution_count": 444,
     "metadata": {},
     "output_type": "execute_result"
    }
   ],
   "source": [
    "v[v!=3]"
   ]
  },
  {
   "cell_type": "code",
   "execution_count": 446,
   "id": "11cc0c83-4108-4054-ad41-f9b73e0f3a99",
   "metadata": {},
   "outputs": [
    {
     "data": {
      "text/plain": [
       "array([1, 2, 3, 4, 5])"
      ]
     },
     "execution_count": 446,
     "metadata": {},
     "output_type": "execute_result"
    }
   ],
   "source": [
    "v"
   ]
  },
  {
   "cell_type": "code",
   "execution_count": 448,
   "id": "c8924df7-cfe5-453f-be6c-0c20348afdda",
   "metadata": {},
   "outputs": [
    {
     "data": {
      "text/plain": [
       "array([ 2,  4,  6,  8, 10])"
      ]
     },
     "execution_count": 448,
     "metadata": {},
     "output_type": "execute_result"
    }
   ],
   "source": [
    "v*2"
   ]
  },
  {
   "cell_type": "code",
   "execution_count": 450,
   "id": "50705b12-4353-44d8-96f2-7d08233e13c0",
   "metadata": {},
   "outputs": [
    {
     "data": {
      "text/plain": [
       "array([0.2, 0.4, 0.6, 0.8, 1. ])"
      ]
     },
     "execution_count": 450,
     "metadata": {},
     "output_type": "execute_result"
    }
   ],
   "source": [
    "v/5"
   ]
  },
  {
   "cell_type": "code",
   "execution_count": 452,
   "id": "a1a6c3f6-07b6-4c88-a4ff-6bbb5e46e11d",
   "metadata": {},
   "outputs": [
    {
     "data": {
      "text/plain": [
       "array([0.5, 1. , 1.5, 2. , 2.5])"
      ]
     },
     "execution_count": 452,
     "metadata": {},
     "output_type": "execute_result"
    }
   ],
   "source": [
    "v*5/10"
   ]
  },
  {
   "cell_type": "code",
   "execution_count": 454,
   "id": "d1fc085f-b8e6-40d1-a608-fcb9137b3533",
   "metadata": {},
   "outputs": [
    {
     "data": {
      "text/plain": [
       "array([ 1,  4,  9, 16, 25])"
      ]
     },
     "execution_count": 454,
     "metadata": {},
     "output_type": "execute_result"
    }
   ],
   "source": [
    "v**2"
   ]
  },
  {
   "cell_type": "markdown",
   "id": "dd56a130-68f3-4746-bc11-3d25e3574ec8",
   "metadata": {},
   "source": [
    "# Matematiksel  İşlemler"
   ]
  },
  {
   "cell_type": "code",
   "execution_count": 457,
   "id": "9c67c8f1-564c-4e87-8f27-b043bd3b213b",
   "metadata": {},
   "outputs": [],
   "source": [
    "v=np.array([1,2,3,4,5])"
   ]
  },
  {
   "cell_type": "code",
   "execution_count": 459,
   "id": "effdecd6-cf01-4745-97ee-9e139554b1f0",
   "metadata": {},
   "outputs": [
    {
     "data": {
      "text/plain": [
       "array([0, 1, 2, 3, 4])"
      ]
     },
     "execution_count": 459,
     "metadata": {},
     "output_type": "execute_result"
    }
   ],
   "source": [
    "v-1"
   ]
  },
  {
   "cell_type": "code",
   "execution_count": 461,
   "id": "4647519f-912b-4d34-910f-fbbea6aa830b",
   "metadata": {},
   "outputs": [
    {
     "data": {
      "text/plain": [
       "array([ 5, 10, 15, 20, 25])"
      ]
     },
     "execution_count": 461,
     "metadata": {},
     "output_type": "execute_result"
    }
   ],
   "source": [
    "v*5"
   ]
  },
  {
   "cell_type": "code",
   "execution_count": 463,
   "id": "c7563153-205e-448b-ae5f-299e0a44583d",
   "metadata": {},
   "outputs": [
    {
     "data": {
      "text/plain": [
       "array([0.2, 0.4, 0.6, 0.8, 1. ])"
      ]
     },
     "execution_count": 463,
     "metadata": {},
     "output_type": "execute_result"
    }
   ],
   "source": [
    "v/5"
   ]
  },
  {
   "cell_type": "code",
   "execution_count": 465,
   "id": "ce8b0e1b-e012-44d1-ab72-6d15b9e07393",
   "metadata": {},
   "outputs": [
    {
     "data": {
      "text/plain": [
       "array([-0.5,  0. ,  0.5,  1. ,  1.5])"
      ]
     },
     "execution_count": 465,
     "metadata": {},
     "output_type": "execute_result"
    }
   ],
   "source": [
    "v*5/10-1"
   ]
  },
  {
   "cell_type": "code",
   "execution_count": 467,
   "id": "f3e2818d-a439-4f0a-9e57-1aed71c63daf",
   "metadata": {},
   "outputs": [],
   "source": [
    "# ufunc mekanizması operatörler aracılığı ile çeşitli fonksiyonların çalışması söz konusudur"
   ]
  },
  {
   "cell_type": "markdown",
   "id": "b395f4db-0108-42c6-83ba-106ae9682fb0",
   "metadata": {},
   "source": [
    "# NumPy ile iki Bilinmeyenli Denklem Çözümü"
   ]
  },
  {
   "cell_type": "markdown",
   "id": "eafa9777-5101-4a99-9759-292aa54cb188",
   "metadata": {},
   "source": [
    "- 5*x0+x1=12\n",
    "- x0+3*x1=10"
   ]
  },
  {
   "cell_type": "code",
   "execution_count": 476,
   "id": "d78906e3-3415-4550-a1f5-33a6c55c75c0",
   "metadata": {},
   "outputs": [],
   "source": [
    "a = np.array([[5,1],[1,3]]) # iki bilinmeyenli denklemde katsayıları birarray yapıyoruz\n",
    "b = np.array([12,10])  #değerleri ayrı bir array yapyoruz"
   ]
  },
  {
   "cell_type": "code",
   "execution_count": 478,
   "id": "2f49093d-4669-4c67-8a69-dd10205eec09",
   "metadata": {},
   "outputs": [
    {
     "data": {
      "text/plain": [
       "array([[5, 1],\n",
       "       [1, 3]])"
      ]
     },
     "execution_count": 478,
     "metadata": {},
     "output_type": "execute_result"
    }
   ],
   "source": [
    "a"
   ]
  },
  {
   "cell_type": "code",
   "execution_count": 480,
   "id": "bc442e47-8183-484f-826d-3c7108a0f58e",
   "metadata": {},
   "outputs": [
    {
     "data": {
      "text/plain": [
       "array([12, 10])"
      ]
     },
     "execution_count": 480,
     "metadata": {},
     "output_type": "execute_result"
    }
   ],
   "source": [
    "b"
   ]
  },
  {
   "cell_type": "code",
   "execution_count": 484,
   "id": "9774af65-80b8-4a15-a825-226c1d9eff22",
   "metadata": {},
   "outputs": [
    {
     "data": {
      "text/plain": [
       "array([1.85714286, 2.71428571])"
      ]
     },
     "execution_count": 484,
     "metadata": {},
     "output_type": "execute_result"
    }
   ],
   "source": [
    "x=np.linalg.solve(a,b) # fonksiyona tanımlamış olduğumuz arrayleri parametre olarak geçiyoruz\n",
    "x"
   ]
  },
  {
   "cell_type": "code",
   "execution_count": null,
   "id": "49dcba60-b3ef-4361-a921-dddc1dab44f7",
   "metadata": {},
   "outputs": [],
   "source": []
  }
 ],
 "metadata": {
  "kernelspec": {
   "display_name": "Python 3 (ipykernel)",
   "language": "python",
   "name": "python3"
  },
  "language_info": {
   "codemirror_mode": {
    "name": "ipython",
    "version": 3
   },
   "file_extension": ".py",
   "mimetype": "text/x-python",
   "name": "python",
   "nbconvert_exporter": "python",
   "pygments_lexer": "ipython3",
   "version": "3.11.5"
  }
 },
 "nbformat": 4,
 "nbformat_minor": 5
}
