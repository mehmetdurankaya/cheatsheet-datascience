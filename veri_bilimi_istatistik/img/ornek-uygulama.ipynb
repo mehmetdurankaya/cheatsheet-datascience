{
 "cells": [
  {
   "cell_type": "markdown",
   "id": "3b925e3f-221f-4b06-8f53-23f9ba7808ed",
   "metadata": {},
   "source": [
    "# İş Uygulaması: Fiyat  Stratejisi Karar Destek"
   ]
  },
  {
   "cell_type": "markdown",
   "id": "23bdbf38-6685-4f72-a952-433aa534821d",
   "metadata": {},
   "source": [
    "## Problem\n",
    "### CEO fiyat belirleme konusunda bilimsel bir dayanak ve esneklik istiyor\n",
    "### Detaylar:\n",
    "* Satıcı, alıcı ve bir ürün var.\n",
    "* Alıcılara ürüne ne kadar ücret öderdiniz diye soruluyor (birbirlerinin verdikleri fiyatı görmüyorlar)\n",
    "* Optimum fiyat bilimsel ve esnek olarak bulunmak isteniyor."
   ]
  },
  {
   "cell_type": "code",
   "execution_count": 9,
   "id": "5873ea81-15d2-4df2-a497-ad8a1232d1b0",
   "metadata": {},
   "outputs": [],
   "source": [
    "import numpy as np\n",
    "fiyatlar = np.random.randint(10,110,1000)"
   ]
  },
  {
   "cell_type": "code",
   "execution_count": 11,
   "id": "70a19f17-104b-4dba-9bb2-3d0d1335c2a0",
   "metadata": {},
   "outputs": [
    {
     "data": {
      "text/plain": [
       "59.043"
      ]
     },
     "execution_count": 11,
     "metadata": {},
     "output_type": "execute_result"
    }
   ],
   "source": [
    "fiyatlar.mean() # ortalama"
   ]
  },
  {
   "cell_type": "code",
   "execution_count": 13,
   "id": "ea4c731c-95af-40f5-af34-6d7c81f51fb8",
   "metadata": {},
   "outputs": [],
   "source": [
    "import statsmodels.stats.api as sms"
   ]
  },
  {
   "cell_type": "code",
   "execution_count": 15,
   "id": "2a1bda0c-7326-49dc-85b1-c23ed7f0c89c",
   "metadata": {},
   "outputs": [
    {
     "data": {
      "text/plain": [
       "(57.271946123054256, 60.81405387694574)"
      ]
     },
     "execution_count": 15,
     "metadata": {},
     "output_type": "execute_result"
    }
   ],
   "source": [
    "sms.DescrStatsW(fiyatlar).tconfint_mean() #güven aralığı "
   ]
  },
  {
   "cell_type": "markdown",
   "id": "ad80ff39-af19-466b-8acb-95d9d5988a91",
   "metadata": {},
   "source": [
    "* Sonuc: Alıcıların vermiş olduğu fiyatlara göre fiyat aralığı %95 doğrulukla hesaplanmıştır."
   ]
  }
 ],
 "metadata": {
  "kernelspec": {
   "display_name": "Python 3 (ipykernel)",
   "language": "python",
   "name": "python3"
  },
  "language_info": {
   "codemirror_mode": {
    "name": "ipython",
    "version": 3
   },
   "file_extension": ".py",
   "mimetype": "text/x-python",
   "name": "python",
   "nbconvert_exporter": "python",
   "pygments_lexer": "ipython3",
   "version": "3.11.5"
  }
 },
 "nbformat": 4,
 "nbformat_minor": 5
}
