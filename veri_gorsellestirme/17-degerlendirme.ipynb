{
 "cells": [
  {
   "cell_type": "markdown",
   "id": "f16206d3-eaba-498a-aec1-5012303afb59",
   "metadata": {},
   "source": [
    "# Değerlendirme"
   ]
  },
  {
   "cell_type": "markdown",
   "id": "f1580317-1b70-4919-b64a-cd0e72a1c2eb",
   "metadata": {},
   "source": [
    "* Dağılım Grafikleri\n",
    "* Korelasyon Grafikleri\n",
    "* Çizgi Grafikleri\n",
    "* Basit Zaman Serisi"
   ]
  },
  {
   "cell_type": "markdown",
   "id": "e2655516-a019-41a1-9abd-7595b06237e1",
   "metadata": {},
   "source": [
    "* Elimizdeki değişkenin türünü istatistiki türünü bilmemiz durumunda bu değişkene hangi grafik türlerinin uygulanabileceğini biliyoruz.\n",
    "* Örnek: Elimizde bir kategorik değişken varsa aklımıza ilk gelmesi gereken grafik Sütun Grafik(bar plot)olması gerekir.bu grafikler aracılığı ile elimizdeki kategorik değişkenlerin frekanslarını görselleştirebilir ve elimizdeki kategorik değişkenlerin sınıf dağılımlarına erişebiliriz.\n",
    "* Elimizde sayısal değişken varsa aklımıza iki grafik türü gelmeli\n",
    "   - Histogram\n",
    "   - Kutu Grafik (Box plot)\n",
    "   - Violin\n",
    "     bu grafikleri kullanarak elimizdeki sayısal değişkenin dağılımına ilişkin bilgi edine biliyoruz.\n",
    "* Bu noktaya kadar olanlar dağılım grafiği idi\n",
    "* Korelasyon Grafikleri değişkenleri birlikte değerlendirme imkanına sahip olduk iki sayısal değişken arasındaki ilişki korelasyon olarak adlandırılır ve görselleştirme tekniği olarak Çizgi Grafiği Zaman Serisi Grafikleri"
   ]
  }
 ],
 "metadata": {
  "kernelspec": {
   "display_name": "Python 3 (ipykernel)",
   "language": "python",
   "name": "python3"
  },
  "language_info": {
   "codemirror_mode": {
    "name": "ipython",
    "version": 3
   },
   "file_extension": ".py",
   "mimetype": "text/x-python",
   "name": "python",
   "nbconvert_exporter": "python",
   "pygments_lexer": "ipython3",
   "version": "3.11.5"
  }
 },
 "nbformat": 4,
 "nbformat_minor": 5
}
