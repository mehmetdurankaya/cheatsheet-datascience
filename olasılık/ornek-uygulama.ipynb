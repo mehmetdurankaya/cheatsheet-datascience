{
 "cells": [
  {
   "cell_type": "markdown",
   "id": "7c5ae89c-96f3-4941-b92a-cb6237a8c335",
   "metadata": {},
   "source": [
    "# İş Uygulaması: Reklam Harcaması Optimizasyonu"
   ]
  },
  {
   "cell_type": "markdown",
   "id": "6855f56c-2460-4425-b8e5-986b57aae739",
   "metadata": {},
   "source": [
    "* **Problem:**\n",
    " - Çeşitli mecralara reklam veriliyor, reklamların tıklanma ve geri dönüşüm oranları optimize edilmeye çalışılıyor, Buna yönelik olarak belirli bir mecrada çeşitli senaryolara göre reklama tıklama olasılıkları hesaplanmak isteniliyor.\n",
    "* **Detaylar:**\n",
    "  - Bir mecrada reklam verilecek\n",
    "  - Dağılım ve reklama tıklama olasılığı biliniyor(0.01)\n",
    "* **Soru:**\n",
    "  - Reklamı 100 kişi gördüğünde 1,5,10 tıklanması olasılığı nedir?"
   ]
  },
  {
   "cell_type": "markdown",
   "id": "04c6faa7-c0c0-47cd-883f-bff7bdcb078b",
   "metadata": {},
   "source": [
    "### Binom Dağılımı"
   ]
  },
  {
   "cell_type": "code",
   "execution_count": 10,
   "id": "552c6aae-155f-4ded-a38a-90b920323644",
   "metadata": {},
   "outputs": [],
   "source": [
    "from scipy.stats import binom"
   ]
  },
  {
   "cell_type": "code",
   "execution_count": 14,
   "id": "0cca3cfa-3d86-415e-82cf-abd57876b32a",
   "metadata": {},
   "outputs": [
    {
     "name": "stdout",
     "output_type": "stream",
     "text": [
      "0.36972963764972666\n",
      "0.002897787123761478\n",
      "7.006035693977194e-08\n"
     ]
    }
   ],
   "source": [
    "p= 0.01\n",
    "n= 100\n",
    "rv=binom(n,p)\n",
    "print(rv.pmf(1))\n",
    "print(rv.pmf(5))\n",
    "print(rv.pmf(10))"
   ]
  },
  {
   "cell_type": "code",
   "execution_count": null,
   "id": "ce40eb2d-eba9-4afa-b75c-2ff4a081404b",
   "metadata": {},
   "outputs": [],
   "source": []
  }
 ],
 "metadata": {
  "kernelspec": {
   "display_name": "Python 3 (ipykernel)",
   "language": "python",
   "name": "python3"
  },
  "language_info": {
   "codemirror_mode": {
    "name": "ipython",
    "version": 3
   },
   "file_extension": ".py",
   "mimetype": "text/x-python",
   "name": "python",
   "nbconvert_exporter": "python",
   "pygments_lexer": "ipython3",
   "version": "3.11.5"
  }
 },
 "nbformat": 4,
 "nbformat_minor": 5
}
