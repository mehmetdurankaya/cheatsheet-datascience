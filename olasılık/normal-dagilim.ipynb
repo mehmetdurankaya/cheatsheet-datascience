{
 "cells": [
  {
   "cell_type": "markdown",
   "id": "74def6e8-a76c-4bcc-8f6f-e54ef129908f",
   "metadata": {},
   "source": [
    "# İş Uygulaması: Satış Olasılıklarının Hesaplanması"
   ]
  },
  {
   "cell_type": "markdown",
   "id": "1f2e150a-bb39-421d-b382-34ac5d9c6110",
   "metadata": {},
   "source": [
    "### **Problem:**"
   ]
  },
  {
   "cell_type": "markdown",
   "id": "7778cf2a-0c14-4596-abe6-592e6c986df7",
   "metadata": {},
   "source": [
    "#### Bir yatırım/toplantı öncesinde gelecek ay ile ilgili satışların belirli değerlerde gerçekleşmesi olasılıkları belirlenmek isteniyor.\n",
    "### Detaylar:\n",
    " - Dağılımın normal olduğu biliniyor\n",
    " - Aylık ortalama sataş sayısı 80K, standart sapması 5K\n",
    " - 90K' dan fazla satış yapma olasılığı nedir?"
   ]
  },
  {
   "cell_type": "markdown",
   "id": "386bd660-5394-453a-af4a-dd78ad81cd10",
   "metadata": {},
   "source": [
    "# Normal Dağılım\n",
    "$ f(x) = \\frac{1}{\\sigma \\sqrt{2\\pi}} e^{-\\frac{(x - \\mu)^2}{2\\sigma^2}} $\n",
    "* (µ) ortalama ya da dağılımın beklenen değeri\n",
    "* $ \\sigma $ standart sapma \n",
    "* $ \\sigma $² varyans"
   ]
  },
  {
   "cell_type": "code",
   "execution_count": 27,
   "id": "f19f45ca-6b87-4bb5-a4f3-47f6c0980129",
   "metadata": {},
   "outputs": [],
   "source": [
    "from scipy.stats import norm"
   ]
  },
  {
   "cell_type": "markdown",
   "id": "957925aa-020e-482c-927d-4b15f56d9f9e",
   "metadata": {},
   "source": [
    "* cdf() kümülatif yoğunluk fonksiyonu\n",
    "    - 1. arguman Hesaplamak istedimiz değeri\n",
    "    - 2. arguman Ortalama\n",
    "    - 3. arguman standart sapma yı temsil etmektedir."
   ]
  },
  {
   "cell_type": "code",
   "execution_count": 57,
   "id": "5b21cca1-f25c-4210-a994-396dbd8040c7",
   "metadata": {},
   "outputs": [
    {
     "data": {
      "text/plain": [
       "0.02275013194817921"
      ]
     },
     "execution_count": 57,
     "metadata": {},
     "output_type": "execute_result"
    }
   ],
   "source": [
    "#90'dan fazla olması\n",
    "1-norm.cdf(90,80,5)  # cdf() kümülatif yoğunluk fonksiyonu"
   ]
  },
  {
   "cell_type": "code",
   "execution_count": 55,
   "id": "e22f2832-98b4-4a59-8fe8-22a4d819f5ed",
   "metadata": {},
   "outputs": [
    {
     "data": {
      "text/plain": [
       "0.9772498680518208"
      ]
     },
     "execution_count": 55,
     "metadata": {},
     "output_type": "execute_result"
    }
   ],
   "source": [
    "#70'ten fazla olması\n",
    "1-norm.cdf(70,80,5)"
   ]
  },
  {
   "cell_type": "code",
   "execution_count": 53,
   "id": "f6380b8f-3864-426a-917b-42f4799d3999",
   "metadata": {},
   "outputs": [
    {
     "data": {
      "text/plain": [
       "0.08075665923377107"
      ]
     },
     "execution_count": 53,
     "metadata": {},
     "output_type": "execute_result"
    }
   ],
   "source": [
    "#73'ten fazla olması\n",
    "norm.cdf(73,80,5)"
   ]
  },
  {
   "cell_type": "code",
   "execution_count": 51,
   "id": "c64d14b8-ef83-4cf2-b250-1d4331c451d6",
   "metadata": {},
   "outputs": [
    {
     "data": {
      "text/plain": [
       "0.13590512198327787"
      ]
     },
     "execution_count": 51,
     "metadata": {},
     "output_type": "execute_result"
    }
   ],
   "source": [
    "#85 ile 90 arasında olması\n",
    "norm.cdf(90,80,5) - norm.cdf(85,80,5)"
   ]
  },
  {
   "cell_type": "code",
   "execution_count": null,
   "id": "75fed214-8996-4c8b-804d-f39ac47c2e8b",
   "metadata": {},
   "outputs": [],
   "source": []
  }
 ],
 "metadata": {
  "kernelspec": {
   "display_name": "Python 3 (ipykernel)",
   "language": "python",
   "name": "python3"
  },
  "language_info": {
   "codemirror_mode": {
    "name": "ipython",
    "version": 3
   },
   "file_extension": ".py",
   "mimetype": "text/x-python",
   "name": "python",
   "nbconvert_exporter": "python",
   "pygments_lexer": "ipython3",
   "version": "3.11.5"
  }
 },
 "nbformat": 4,
 "nbformat_minor": 5
}
