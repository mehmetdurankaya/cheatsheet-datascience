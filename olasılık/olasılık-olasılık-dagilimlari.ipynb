{
 "cells": [
  {
   "cell_type": "markdown",
   "id": "17d74710-953a-48b1-9845-2535b72a615d",
   "metadata": {},
   "source": [
    "# Olasılığa Giriş ve Olasılık Dağılımları"
   ]
  },
  {
   "cell_type": "markdown",
   "id": "02fe6cf3-e5dc-420f-8c7d-7647ba3c06cc",
   "metadata": {},
   "source": [
    "* Belirsizlikle ilgili yorumlar yapabilmek için en sık başvurulan tekniklerden brisidir\n",
    "* Çıkarımsal istatistik kapsamında\n",
    "*  veri bilimi için istatistik kapsamında\n",
    "*  bazı olasılıklarla bazı belirsizliklerin belirsizlik durumunu bildirgemekle bunları sayılarla ifade etmekle ilgilenildiğinde işimizi görecek olan konulardır.\n",
    "* OLASILIK NEDİR?\n",
    "   - Olayların olabilirliğinin sayısal ifadesidir. Bir olayın meydana gelmesi için uygun durum sayısının o konuda oluşabilecek tüm elverişli durum sayısına oranıdır.\n",
    "* Rassal değişken ve olasılık dağılımları\n",
    "  - Bazı olasılık dağılımlarını kullanarak bazı olaylara ilişkin olasılıkları hesaplamak istediğimizde rassal değişkenleri kullanırız. Değerlerini bir deneyin sonucundan alan değişkene rassal değişken denir.\n",
    "* DAĞILIM NEDİR?\n",
    "  - Olaylar yada durumların sayısal karşılıklarının ortaya çıkardığı yapıya dağılım denir.\n",
    "* OLASILIK DAĞILIMI NEDİR?\n",
    "   - Bir rassal olaya ait değerler ve bu değerlerin gerçekleşme olasılıklarının bir arada ifade edilmesine olasılık dağılımı denir.\n",
    "* OLASILIK FONKSİYONU NEDİR?\n",
    "   - Bir değişkenin herhangi bir değeri alması olasılığını hesaplayan fonksiyondur."
   ]
  },
  {
   "cell_type": "markdown",
   "id": "8f526a3f-4299-4ef4-81a6-27ccb80d98c2",
   "metadata": {},
   "source": [
    "<table>\n",
    "<tr>\n",
    "<td>\n",
    "    <span style=\"font-size: 12px;\"></span> <span style=\"font-size: 24px;\"><b>Kesikli Olasılık Dağılımları</b></span><br>\n",
    " <span style=\"font-size: 12px;\">&#x25A0;</span> <span style=\"font-size: 20px; margin-left: 10px;margin-right: 200px;\"><b>Bernoulli</b></span><br>\n",
    "    <span style=\"font-size: 12px;\">&#x25A0;</span> <span style=\"font-size: 20px; margin-left: 10px;margin-right: 200px;\"><b>Binom</b></span><br>\n",
    "    <span style=\"font-size: 12px;\">&#x25A0;</span> <span style=\"font-size: 20px; margin-left: 10px;margin-right: 200px;\"><b>Poisson</b></span><br>   \n",
    "</td>    \n",
    "\n",
    "<td>\n",
    "<span style=\"font-size: 12px;\"></span> <span style=\"font-size: 24px;\"><b>Sürekli Olasılık Dağılımları</b></span><br>\n",
    "<span style=\"font-size: 12px;\">&#x25A0;</span> <span style=\"font-size: 20px; margin-left: 10px;margin-right: 200px;\"><b>Normal Dağılım</b></span><br>\n",
    "<span style=\"font-size: 12px;\">&#x25A0;</span> <span style=\"font-size: 20px; margin-left: 10px;margin-right: 200px;\"><b>Üniform Dağılım</b></span><br>\n",
    "<span style=\"font-size: 12px;\">&#x25A0;</span> <span style=\"font-size: 20px; margin-left: 10px;margin-right: 200px;\"><b>Üstel Dağılım</b></span><br>  \n",
    "</td>\n",
    "</table>"
   ]
  },
  {
   "cell_type": "markdown",
   "id": "0a2a4c23-8647-4404-b622-946e30374529",
   "metadata": {},
   "source": [
    "# Olasılığa Giriş ve Olasılık Dağılımları\n",
    "\n",
    "Olasılık, belirsizlik altında meydana gelebilecek olayların nasıl modelleneceğini anlamamıza yardımcı olan matematiksel bir kavramdır. Olasılık teorisi, rastgele olayların incelenmesi ve analiz edilmesi için güçlü araçlar sunar. Şimdi bu konuya giriş yaparak, temel kavramlar ve olasılık dağılımlarını detaylı bir şekilde açıklayalım.\n",
    "\n",
    "## 1. Olasılığa Giriş\n",
    "\n",
    "### Temel Kavramlar\n",
    "\n",
    "- **Deney (Experiment):** Olasılık teorisinde deney, belirli bir koşul altında gerçekleştirilen bir işlemdir. Sonuçları rastgeledir ve kesin olarak öngörülemez.\n",
    "  - Örnek: Bir zar atılması ya da bir madeni paranın havaya fırlatılması birer deneydir.\n",
    "  \n",
    "- **Olay (Event):** Deneyin sonucunda ortaya çıkabilecek belirli sonuçlara olay denir. Her olay, birden fazla sonuçtan (elemandan) oluşabilir.\n",
    "  - Örnek: Bir zar atıldığında \"2\" gelmesi bir olaydır.\n",
    "\n",
    "- **Örneklem Uzayı (Sample Space):** Bir deneyin tüm olası sonuçlarının kümesine örneklem uzayı denir. Bu uzay genellikle \\( S \\) harfiyle gösterilir.\n",
    "  - Örnek: Bir zar atıldığında olası sonuçlar {1, 2, 3, 4, 5, 6} olduğundan, zar atma deneyinin örneklem uzayı \\( S = \\{1, 2, 3, 4, 5, 6\\} \\) olur.\n",
    "\n",
    "- **Basit Olay (Simple Event):** Örneklem uzayındaki her bir tekil sonuca basit olay denir. \n",
    "  - Örnek: Bir zar atıldığında \"3\" gelmesi bir basit olaydır.\n",
    "\n",
    "- **Birleşik Olay (Compound Event):** İki veya daha fazla basit olayın birleşiminden oluşan olaylara birleşik olay denir. \n",
    "  - Örnek: Bir zar atıldığında \"3 veya 4\" gelmesi birleşik olaydır.\n",
    "\n",
    "### Olasılık Fonksiyonu (Probability Function)\n",
    "\n",
    "Bir örneklem uzayında yer alan her olaya bir sayı (olasılık değeri) atanır ve bu sayının 0 ile 1 arasında olması gereklidir. Bir olayın olasılığı şu iki koşulu sağlamalıdır:\n",
    "1. Her olayın olasılığı 0 ile 1 arasında olmalıdır:\n",
    "$  0 \\leq P(A) \\leq 1$\n",
    "2. Olası tüm olayların olasılıklarının toplamı 1 olmalıdır:$ P(S) = 1 $\n",
    "Örneğin, bir zar atıldığında herhangi bir sayının gelme olasılığı 1/6 ’dır. Tüm olasılıkların toplamı şu şekildedir:\n",
    "$P(1) + P(2) + P(3) + P(4) + P(5) + P(6) = 6 \\times \\frac{1}{6} = 1$\n"
   ]
  },
  {
   "cell_type": "markdown",
   "id": "6a381d54-44fd-4b28-a4d6-d43da12383ce",
   "metadata": {},
   "source": [
    "# Olasılık Türleri\n",
    "\n",
    "## 1. Klasik Olasılık\n",
    "\n",
    "Klasik olasılık, deneylerin her bir sonucunun eşit olasılıkla gerçekleştiği durumlarda kullanılır. Olasılık, istenen sonuçların toplam olası sonuçlara oranı olarak hesaplanır.\n",
    "\n",
    "$P(A) = \\frac{\\text{İstenen Olay Sayısı}}{\\text{Toplam Olası Olay Sayısı}}$\n",
    "\n",
    "**Örnek:** Bir zar atıldığında \"3\" gelme olasılığı $P(3) = \\frac{1}{6}$’dır.\n",
    "\n",
    "## 2. Deneysel Olasılık\n",
    "\n",
    "Gerçek deneylerden elde edilen verilerle hesaplanan olasılıktır. Deneysel olasılık, bir olayın geçmişte kaç kez meydana geldiğine dair gözlemlerle hesaplanır.\n",
    "\n",
    "$P(A) = \\frac{\\text{A Olayının Gözlemlendiği Zaman}}{\\text{Toplam Deney Sayısı}}$\n",
    "\n",
    "**Örnek:** Bir zar 100 kez atıldığında 20 kez 3 gelmişse, deneysel olasılık\n",
    "$ P(3) = \\frac{20}{100} = 0.2 $’dir.\n",
    "\n",
    "## 3. Subjektif Olasılık\n",
    "\n",
    "Kişisel yargılara, tahminlere veya sezgilere dayalı olarak yapılan olasılık hesaplamalarıdır. Nesnel bir veri tabanı yerine kişisel tecrübeler ve inançlara dayanır.\n",
    "\n",
    "# Olasılık Dağılımları\n",
    "\n",
    "Olasılık dağılımları, bir rastgele değişkenin alabileceği tüm değerler ve bu değerlere karşılık gelen olasılıklar arasındaki ilişkiyi gösteren fonksiyonlardır. Olasılık dağılımları iki ana türe ayrılır: **kesikli** ve **sürekli**."
   ]
  },
  {
   "cell_type": "markdown",
   "id": "fe127dd7-3b3d-4d73-a182-460ecb51c792",
   "metadata": {},
   "source": [
    "## 2.1 Kesikli Olasılık Dağılımları\n",
    "\n",
    "Kesikli olasılık dağılımları, yalnızca sayılabilir sonlu ya da sonsuz sayıda olasılığı olan değişkenleri tanımlar.\n",
    "\n",
    "### 2.1.1 Bernoulli Dağılımı\n",
    "\n",
    "Bernoulli dağılımı, iki olası sonuç (başarı ve başarısızlık) içeren tek bir deneme için kullanılan bir olasılık dağılımıdır. Bernoulli dağılımında, bir olayın başarı olasılığı \\( p \\) ve başarısızlık olasılığı \\( 1 - p \\) olarak belirlenir. Bu dağılımın olasılık kütle fonksiyonu (PMF) şu şekilde ifade edilir:\n",
    "\n",
    "$\n",
    "P(X = x) =\n",
    "\\begin{cases}\n",
    "p & \\text{eğer } x = 1 \\\\\n",
    "1 - p & \\text{eğer } x = 0\n",
    "\\end{cases}\n",
    "$\n",
    "\n",
    "Burada:\n",
    "- \\( X \\), Bernoulli rastgele değişkenidir.\n",
    "- \\( x \\) değişkeninin alabileceği değerler 0 veya 1'dir.\n",
    "- \\( p \\), başarı olasılığıdır (0 ile 1 arasında bir değerdir).\n",
    "\n",
    "Başarı (1) için olasılık \\( p \\), başarısızlık (0) için olasılık ise \\( 1 - p \\)'dir.\n",
    "\n",
    "#### Örnek\n",
    "\n",
    "Eğer bir zar atıldığında \"6\" gelme olasılığını başarı olarak kabul edersek (bu durumda \\( p = \\frac{1}{6} \\)) ve diğer tüm sonuçlar başarısızlık olarak kabul edilirse (bu durumda \\( 1 - p = \\frac{5}{6} \\)), Bernoulli dağılımı şu şekilde tanımlanır:\n",
    "\n",
    "$\n",
    "P(X = 1) = \\frac{1}{6}\n",
    "$\n",
    "\n",
    "$\n",
    "P(X = 0) = \\frac{5}{6}\n",
    "$\n",
    "\n",
    "Bu dağılım, tek bir denemede iki olası sonucun olduğu durumlarda kullanışlıdır ve özellikle binom dağılımının temelini oluşturur.\n",
    "\n",
    "\n"
   ]
  },
  {
   "cell_type": "code",
   "execution_count": 125,
   "id": "d4fb9dab-7a92-4a22-9e15-1fd2fe6edef1",
   "metadata": {},
   "outputs": [],
   "source": [
    "from scipy.stats import bernoulli"
   ]
  },
  {
   "cell_type": "code",
   "execution_count": 127,
   "id": "f1b0cfea-4b68-4f43-8226-036626c1373d",
   "metadata": {},
   "outputs": [],
   "source": [
    "p= 0.6"
   ]
  },
  {
   "cell_type": "code",
   "execution_count": 129,
   "id": "091ad306-5cc7-4631-846f-478ce241b57b",
   "metadata": {},
   "outputs": [
    {
     "data": {
      "text/plain": [
       "0.4000000000000001"
      ]
     },
     "execution_count": 129,
     "metadata": {},
     "output_type": "execute_result"
    }
   ],
   "source": [
    "rv=bernoulli(p)\n",
    "rv.pmf(k=0)"
   ]
  },
  {
   "cell_type": "markdown",
   "id": "93c32925-8722-45a9-a98b-3dc6e34b0469",
   "metadata": {},
   "source": [
    "### 2.1.2 Binom Dağılımı\n",
    "\n",
    "Binom dağılımı, bağımsız \\( n \\) sayıda Bernoulli denemesinin birleştirilmesiyle oluşan dağılımdır. Binom dağılımı, belirli bir sayıda başarıyı (k) içeren \\( n \\) denemede başarıların olasılığını hesaplamak için kullanılır. Binom dağılımının olasılık kütle fonksiyonu şu şekilde ifade edilir:\n",
    "\n",
    "$\n",
    "P(X = k) = \\binom{n}{k} p^k (1-p)^{n-k}\n",
    "$\n",
    "\n",
    "Burada:\n",
    "- \\( X \\), başarı sayısını temsil eden rastgele değişkendir.\n",
    "- \\( k \\), başarılı sonuçların sayısını belirtir.\n",
    "- \\( n \\), toplam deneme sayısını belirtir.\n",
    "- \\( p \\), her bir denemedeki başarı olasılığıdır.\n",
    "- \\( \\binom{n}{k} \\), \\( n \\) denemesinden \\( k \\) başarı seçme kombinasyon sayısını temsil eder.\n",
    "\n",
    "#### Örnek\n",
    "\n",
    "Bir zar atıldığında \"6\" gelme olasılığı $( p = \\frac{1}{6} )$ olarak kabul edilsin. 10 zar atıldığında, 3 kez \"6\" gelme olasılığını hesaplayalım. Burada \\( n = 10 \\), \\( k = 3 \\), ve $( p = \\frac{1}{6} )$ olacaktır. Binom dağılımının olasılığı şu şekilde hesaplanır:\n",
    "\n",
    "$\n",
    "P(X = 3) = \\binom{10}{3} \\left(\\frac{1}{6}\\right)^3 \\left(\\frac{5}{6}\\right)^7\n",
    "$\n",
    "\n",
    "Burada:\n",
    "$\n",
    "\\binom{10}{3} = \\frac{10!}{3!(10-3)!} = 120\n",
    "$\n",
    "\n",
    "Dolayısıyla:\n",
    "$\n",
    "P(X = 3) = 120 \\times \\left(\\frac{1}{6}\\right)^3 \\times \\left(\\frac{5}{6}\\right)^7\n",
    "$\n",
    "\n",
    "### 2.1.3 Poisson Dağılımı\n",
    "\n",
    "- Belirli bir zaman aralığında ya da alanda nadir olayların sayısını modellemek için kullanılır.\n",
    "- Gözlem sayısının çok yüksek ve beklenen sonucun gelme olasılığının çok düşük olduğu zamanlarda kullanılır n(Gözlem sayısı):büyük p(Olasılık):küçük\n",
    "- Bir olayın nadir olay kabuledilebilmesi için genel kabul edilen görüş\n",
    "   * rassal deneme sayısının n > 50 gözlem sayısının 50'den büyük olması n*p < 5\n",
    "   * yani lambdanında 5 'ten küçük olması gerekir.\n",
    "   * eğer bu durum sağlanıyorsa buna Nadir olay deniyor\n",
    "- Rassal denemeler iki sonuçlu olmalı\n",
    "- Aynı koşullar altında gerçekleştirilmelidir\n",
    "- Rassal denemeler birbirinden bağımsız olmalıdır\n",
    "- Olayların ortalama gerçekleşme sayısı $\\lambda $’dır.\n",
    "  $ P(X = k) = \\frac{\\lambda^k e^{-\\lambda}}{k!} $\n",
    "  * 10bin kelimeden oluşan bir kitapta hatalı kelime sayısı\n",
    "  * 4000 öğrencili okulda not girişinde hata yapılamsı\n",
    "  * Bir iş gününde çağrı merkezine gelen takdir sayısı\n",
    "  * Kredi kartı işlemlerinde sahtekarlık olması\n",
    "  * Rötara düşen uçuş sefer sayısı\n",
    "* **Örnek Uygulama**\n",
    "   - Bir üniversitede 5000 not girişinde 5 tane notun yanlış girilmesi olasılığı nedir?\n",
    "   - Dağılımın Poisson olduğu biliniyor ve Lambda=0.2\n",
    "       - Bir üniversitede 5000 not girişinde 5 tane notun yanlış girilmesi olasılığı nedir?\n",
    "   - Dağılımın Poisson olduğu biliniyor ve Lambda=0.2\n",
    "\n",
    "\n"
   ]
  },
  {
   "attachments": {
    "1e485379-e2ab-4546-8648-b102741baf08.jpg": {
     "image/jpeg": "[encoded data removed]"
    }
   },
   "cell_type": "markdown",
   "id": "a6abd74f-5294-4308-89b3-7e04143f5bd8",
   "metadata": {},
   "source": [
    "![poisson-dagilim.jpg](attachment:1e485379-e2ab-4546-8648-b102741baf08.jpg)"
   ]
  },
  {
   "cell_type": "markdown",
   "id": "8f3d04f2-41f1-48a1-8767-ea75dc4267af",
   "metadata": {},
   "source": [
    "## 2.2 Sürekli Olasılık Dağılımları\n",
    "\n",
    "Sürekli olasılık dağılımları, belirli bir aralıkta sonsuz sayıda değer alabilen rastgele değişkenleri tanımlar. Sürekli dağılımlarda belirli bir değerde olasılık sıfırdır; bu nedenle aralıklar üzerinden olasılık hesaplanır.\n",
    "\n",
    "### 2.2.1 Normal Dağılım (Gauss Dağılımı)\n",
    "\n",
    "- En yaygın kullanılan sürekli olasılık dağılımıdır. Veriler genellikle ortalama (µ) etrafında simetrik bir çan eğrisi şeklinde dağılım gösterir. Standart sapma $ \\sigma $, verilerin yayılma miktarını belirler.\n",
    "$ f(x) = \\frac{1}{\\sigma \\sqrt{2\\pi}} e^{-\\frac{(x - \\mu)^2}{2\\sigma^2}} $\n",
    "\n",
    "### 2.2.2 Uniform Dağılım\n",
    "\n",
    "- Tüm değerlerin eşit olasılıkla ortaya çıktığı durumlar için kullanılır. Belirli bir aralıkta her değerin olasılığı aynıdır.\n",
    "\n",
    "### 2.2.3 Exponential Dağılım\n",
    "\n",
    "- Belirli bir olayın gerçekleşmesi için geçen süreyi modellemek için kullanılır. Parametre $ \\lambda $, olayın gerçekleşme oranını temsil eder.\n",
    "$ f(x) = \\lambda e^{-\\lambda x} $\n",
    "\n",
    "# Olasılık Dağılımlarının Özellikleri\n",
    "\n",
    "- **Beklenen Değer (Expected Value):** Bir rastgele değişkenin uzun dönemde beklenen ortalama değerini temsil eder.\n",
    "$ E(X) = \\sum x_i P(x_i) \\quad (\\text{Kesikli}) \\quad \\text{veya} \\quad E(X) = \\int x f(x) dx \\quad (\\text{Sürekli})$\n",
    "\n",
    "- **Varyans ve Standart Sapma:** Rastgele değişkenin ortalama etrafındaki yayılma miktarını ölçer.\n",
    "$ \\text{Var}(X) = E(X^2) - (E(X))^2 $"
   ]
  },
  {
   "cell_type": "code",
   "execution_count": null,
   "id": "4da6bd4a-e5b9-4b2a-8963-e3599b9a6346",
   "metadata": {},
   "outputs": [],
   "source": []
  }
 ],
 "metadata": {
  "kernelspec": {
   "display_name": "Python 3 (ipykernel)",
   "language": "python",
   "name": "python3"
  },
  "language_info": {
   "codemirror_mode": {
    "name": "ipython",
    "version": 3
   },
   "file_extension": ".py",
   "mimetype": "text/x-python",
   "name": "python",
   "nbconvert_exporter": "python",
   "pygments_lexer": "ipython3",
   "version": "3.11.5"
  }
 },
 "nbformat": 4,
 "nbformat_minor": 5
}
