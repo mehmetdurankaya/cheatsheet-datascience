{
 "cells": [
  {
   "cell_type": "markdown",
   "id": "9e2f8596-7990-4356-9465-dc7560528685",
   "metadata": {},
   "source": [
    "# Büyük Sayılar Yasası\n",
    "### Bir rassal değişkenin uzun vadeli kararlılığını tanımlayan olasılık teoremidir."
   ]
  },
  {
   "cell_type": "code",
   "execution_count": 6,
   "id": "d71037de-6165-4953-b00f-6172761cfbf1",
   "metadata": {},
   "outputs": [
    {
     "name": "stdout",
     "output_type": "stream",
     "text": [
      "Atış Sayısı: 2 --- Yazı Olasılığı: 0.50\n",
      "Atış Sayısı: 4 --- Yazı Olasılığı: 0.00\n",
      "Atış Sayısı: 8 --- Yazı Olasılığı: 0.62\n",
      "Atış Sayısı: 16 --- Yazı Olasılığı: 0.44\n",
      "Atış Sayısı: 32 --- Yazı Olasılığı: 0.47\n",
      "Atış Sayısı: 64 --- Yazı Olasılığı: 0.56\n",
      "Atış Sayısı: 128 --- Yazı Olasılığı: 0.51\n",
      "Atış Sayısı: 256 --- Yazı Olasılığı: 0.53\n",
      "Atış Sayısı: 512 --- Yazı Olasılığı: 0.53\n",
      "Atış Sayısı: 1024 --- Yazı Olasılığı: 0.50\n",
      "Atış Sayısı: 2048 --- Yazı Olasılığı: 0.49\n",
      "Atış Sayısı: 4096 --- Yazı Olasılığı: 0.49\n",
      "Atış Sayısı: 8192 --- Yazı Olasılığı: 0.50\n",
      "Atış Sayısı: 16384 --- Yazı Olasılığı: 0.50\n",
      "Atış Sayısı: 32768 --- Yazı Olasılığı: 0.50\n",
      "Atış Sayısı: 65536 --- Yazı Olasılığı: 0.50\n",
      "Atış Sayısı: 131072 --- Yazı Olasılığı: 0.50\n",
      "Atış Sayısı: 262144 --- Yazı Olasılığı: 0.50\n",
      "Atış Sayısı: 524288 --- Yazı Olasılığı: 0.50\n",
      "Atış Sayısı: 1048576 --- Yazı Olasılığı: 0.50\n"
     ]
    }
   ],
   "source": [
    "import numpy as np\n",
    "rng = np.random.RandomState(123) #işlemi sabitleştirmek için kullanıldı\n",
    "for i in np.arange(1,21):\n",
    "    deney_sayisi=2**i\n",
    "    yazi_turalar=rng.randint(0,2,size=deney_sayisi)\n",
    "    yazi_olasiliklari=np.mean(yazi_turalar)\n",
    "    print(\"Atış Sayısı:\", deney_sayisi,\"---\", 'Yazı Olasılığı: %.2f'% (yazi_olasiliklari))\n"
   ]
  },
  {
   "cell_type": "code",
   "execution_count": 8,
   "id": "70f40833-b76d-4bce-a307-97be8f07a05c",
   "metadata": {},
   "outputs": [
    {
     "data": {
      "text/plain": [
       "0.2"
      ]
     },
     "execution_count": 8,
     "metadata": {},
     "output_type": "execute_result"
    }
   ],
   "source": [
    "1/5 # deney sayısı arttıkça yazı ve tura gelme olasılığı birbirine yaklaşacaktır"
   ]
  },
  {
   "cell_type": "code",
   "execution_count": null,
   "id": "aa100d91-cf38-4b19-b50c-9e810d0e6b3c",
   "metadata": {},
   "outputs": [],
   "source": []
  }
 ],
 "metadata": {
  "kernelspec": {
   "display_name": "Python 3 (ipykernel)",
   "language": "python",
   "name": "python3"
  },
  "language_info": {
   "codemirror_mode": {
    "name": "ipython",
    "version": 3
   },
   "file_extension": ".py",
   "mimetype": "text/x-python",
   "name": "python",
   "nbconvert_exporter": "python",
   "pygments_lexer": "ipython3",
   "version": "3.11.5"
  }
 },
 "nbformat": 4,
 "nbformat_minor": 5
}
